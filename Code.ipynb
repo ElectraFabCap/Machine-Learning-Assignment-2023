{
 "cells": [
  {
   "cell_type": "code",
   "execution_count": 1,
   "id": "7783dbf9-e564-4b77-aa7b-8a52e3f4872a",
   "metadata": {},
   "outputs": [],
   "source": [
    "import pandas as pd\n",
    "import csv\n",
    "import numpy as np"
   ]
  },
  {
   "cell_type": "code",
   "execution_count": 2,
   "id": "733618b0-66b8-4454-a47a-e782fc6eafca",
   "metadata": {},
   "outputs": [],
   "source": [
    "column_types = {\n",
    "    'isAdult': float,\n",
    "    'startYear': float,\n",
    "    'endYear': float,\n",
    "    'runtimeMinutes': float,\n",
    "    'tconst': str,\n",
    "    'titleType': str,\n",
    "    'primaryTitle': str,\n",
    "    'originalTitle': str,\n",
    "    'genres': str\n",
    "}\n",
    "\n",
    "titles_df = pd.read_csv(\"data.tsv\", \n",
    "                        dtype=column_types,\n",
    "                        na_values=r'\\N',\n",
    "                        sep=\"\\t\",\n",
    "                        quoting=csv.QUOTE_NONE)\n",
    "\n",
    "titles_df = titles_df.dropna(subset=['isAdult','runtimeMinutes','startYear'])"
   ]
  },
  {
   "cell_type": "code",
   "execution_count": 3,
   "id": "19ececc3-f4f2-435c-a441-9ed0a662aff5",
   "metadata": {},
   "outputs": [
    {
     "name": "stdout",
     "output_type": "stream",
     "text": [
      "(2949978, 9)\n"
     ]
    },
    {
     "data": {
      "text/html": [
       "<div>\n",
       "<style scoped>\n",
       "    .dataframe tbody tr th:only-of-type {\n",
       "        vertical-align: middle;\n",
       "    }\n",
       "\n",
       "    .dataframe tbody tr th {\n",
       "        vertical-align: top;\n",
       "    }\n",
       "\n",
       "    .dataframe thead th {\n",
       "        text-align: right;\n",
       "    }\n",
       "</style>\n",
       "<table border=\"1\" class=\"dataframe\">\n",
       "  <thead>\n",
       "    <tr style=\"text-align: right;\">\n",
       "      <th></th>\n",
       "      <th>tconst</th>\n",
       "      <th>titleType</th>\n",
       "      <th>primaryTitle</th>\n",
       "      <th>originalTitle</th>\n",
       "      <th>isAdult</th>\n",
       "      <th>startYear</th>\n",
       "      <th>endYear</th>\n",
       "      <th>runtimeMinutes</th>\n",
       "      <th>genres</th>\n",
       "    </tr>\n",
       "  </thead>\n",
       "  <tbody>\n",
       "    <tr>\n",
       "      <th>0</th>\n",
       "      <td>tt0000001</td>\n",
       "      <td>short</td>\n",
       "      <td>Carmencita</td>\n",
       "      <td>Carmencita</td>\n",
       "      <td>0.0</td>\n",
       "      <td>1894.0</td>\n",
       "      <td>NaN</td>\n",
       "      <td>1.0</td>\n",
       "      <td>Documentary,Short</td>\n",
       "    </tr>\n",
       "    <tr>\n",
       "      <th>1</th>\n",
       "      <td>tt0000002</td>\n",
       "      <td>short</td>\n",
       "      <td>Le clown et ses chiens</td>\n",
       "      <td>Le clown et ses chiens</td>\n",
       "      <td>0.0</td>\n",
       "      <td>1892.0</td>\n",
       "      <td>NaN</td>\n",
       "      <td>5.0</td>\n",
       "      <td>Animation,Short</td>\n",
       "    </tr>\n",
       "    <tr>\n",
       "      <th>2</th>\n",
       "      <td>tt0000003</td>\n",
       "      <td>short</td>\n",
       "      <td>Pauvre Pierrot</td>\n",
       "      <td>Pauvre Pierrot</td>\n",
       "      <td>0.0</td>\n",
       "      <td>1892.0</td>\n",
       "      <td>NaN</td>\n",
       "      <td>4.0</td>\n",
       "      <td>Animation,Comedy,Romance</td>\n",
       "    </tr>\n",
       "    <tr>\n",
       "      <th>3</th>\n",
       "      <td>tt0000004</td>\n",
       "      <td>short</td>\n",
       "      <td>Un bon bock</td>\n",
       "      <td>Un bon bock</td>\n",
       "      <td>0.0</td>\n",
       "      <td>1892.0</td>\n",
       "      <td>NaN</td>\n",
       "      <td>12.0</td>\n",
       "      <td>Animation,Short</td>\n",
       "    </tr>\n",
       "    <tr>\n",
       "      <th>4</th>\n",
       "      <td>tt0000005</td>\n",
       "      <td>short</td>\n",
       "      <td>Blacksmith Scene</td>\n",
       "      <td>Blacksmith Scene</td>\n",
       "      <td>0.0</td>\n",
       "      <td>1893.0</td>\n",
       "      <td>NaN</td>\n",
       "      <td>1.0</td>\n",
       "      <td>Comedy,Short</td>\n",
       "    </tr>\n",
       "  </tbody>\n",
       "</table>\n",
       "</div>"
      ],
      "text/plain": [
       "      tconst titleType            primaryTitle           originalTitle  \\\n",
       "0  tt0000001     short              Carmencita              Carmencita   \n",
       "1  tt0000002     short  Le clown et ses chiens  Le clown et ses chiens   \n",
       "2  tt0000003     short          Pauvre Pierrot          Pauvre Pierrot   \n",
       "3  tt0000004     short             Un bon bock             Un bon bock   \n",
       "4  tt0000005     short        Blacksmith Scene        Blacksmith Scene   \n",
       "\n",
       "   isAdult  startYear  endYear  runtimeMinutes                    genres  \n",
       "0      0.0     1894.0      NaN             1.0         Documentary,Short  \n",
       "1      0.0     1892.0      NaN             5.0           Animation,Short  \n",
       "2      0.0     1892.0      NaN             4.0  Animation,Comedy,Romance  \n",
       "3      0.0     1892.0      NaN            12.0           Animation,Short  \n",
       "4      0.0     1893.0      NaN             1.0              Comedy,Short  "
      ]
     },
     "execution_count": 3,
     "metadata": {},
     "output_type": "execute_result"
    }
   ],
   "source": [
    "print(titles_df.shape)\n",
    "titles_df.head()"
   ]
  },
  {
   "cell_type": "code",
   "execution_count": 4,
   "id": "0dbba184-7780-4655-9e3d-2bdd9852e6c4",
   "metadata": {},
   "outputs": [
    {
     "data": {
      "text/plain": [
       "array(['short', 'movie', 'tvShort', 'tvMovie', 'tvSeries', 'tvEpisode',\n",
       "       'tvMiniSeries', 'video', 'tvSpecial', 'videoGame'], dtype=object)"
      ]
     },
     "execution_count": 4,
     "metadata": {},
     "output_type": "execute_result"
    }
   ],
   "source": [
    "titles_df['titleType'].unique()"
   ]
  },
  {
   "cell_type": "code",
   "execution_count": 5,
   "id": "19c7652c-4bef-44cd-9be6-275142a2f241",
   "metadata": {},
   "outputs": [],
   "source": [
    "tv_types = [\n",
    "    'tvMovie',\n",
    "    'tvSeries',\n",
    "    'tvEpisode',\n",
    "    'tvShort',\n",
    "    'tvMiniSeries',\n",
    "    'tvSpecial'\n",
    "]\n",
    "titles_df = titles_df.loc[titles_df['titleType'].isin(tv_types)]"
   ]
  },
  {
   "cell_type": "code",
   "execution_count": 6,
   "id": "6af96da2-8ffd-41b8-ac2a-a74a83dcdf37",
   "metadata": {},
   "outputs": [
    {
     "data": {
      "text/html": [
       "<div>\n",
       "<style scoped>\n",
       "    .dataframe tbody tr th:only-of-type {\n",
       "        vertical-align: middle;\n",
       "    }\n",
       "\n",
       "    .dataframe tbody tr th {\n",
       "        vertical-align: top;\n",
       "    }\n",
       "\n",
       "    .dataframe thead th {\n",
       "        text-align: right;\n",
       "    }\n",
       "</style>\n",
       "<table border=\"1\" class=\"dataframe\">\n",
       "  <thead>\n",
       "    <tr style=\"text-align: right;\">\n",
       "      <th></th>\n",
       "      <th>tconst</th>\n",
       "      <th>titleType</th>\n",
       "      <th>primaryTitle</th>\n",
       "      <th>originalTitle</th>\n",
       "      <th>isAdult</th>\n",
       "      <th>startYear</th>\n",
       "      <th>endYear</th>\n",
       "      <th>runtimeMinutes</th>\n",
       "      <th>genres</th>\n",
       "    </tr>\n",
       "  </thead>\n",
       "  <tbody>\n",
       "    <tr>\n",
       "      <th>28755</th>\n",
       "      <td>tt0029270</td>\n",
       "      <td>tvShort</td>\n",
       "      <td>Much Ado About Nothing</td>\n",
       "      <td>Much Ado About Nothing</td>\n",
       "      <td>0.0</td>\n",
       "      <td>1937.0</td>\n",
       "      <td>NaN</td>\n",
       "      <td>10.0</td>\n",
       "      <td>Comedy,Romance,Short</td>\n",
       "    </tr>\n",
       "    <tr>\n",
       "      <th>29765</th>\n",
       "      <td>tt0030298</td>\n",
       "      <td>tvMovie</td>\n",
       "      <td>Julius Caesar</td>\n",
       "      <td>Julius Caesar</td>\n",
       "      <td>0.0</td>\n",
       "      <td>1938.0</td>\n",
       "      <td>NaN</td>\n",
       "      <td>101.0</td>\n",
       "      <td>Drama,History</td>\n",
       "    </tr>\n",
       "    <tr>\n",
       "      <th>34971</th>\n",
       "      <td>tt0035599</td>\n",
       "      <td>tvSeries</td>\n",
       "      <td>Voice of Firestone Televues</td>\n",
       "      <td>Voice of Firestone Televues</td>\n",
       "      <td>0.0</td>\n",
       "      <td>1943.0</td>\n",
       "      <td>1947.0</td>\n",
       "      <td>15.0</td>\n",
       "      <td>NaN</td>\n",
       "    </tr>\n",
       "    <tr>\n",
       "      <th>37600</th>\n",
       "      <td>tt0038276</td>\n",
       "      <td>tvSeries</td>\n",
       "      <td>You Are an Artist</td>\n",
       "      <td>You Are an Artist</td>\n",
       "      <td>0.0</td>\n",
       "      <td>1946.0</td>\n",
       "      <td>1955.0</td>\n",
       "      <td>15.0</td>\n",
       "      <td>Talk-Show</td>\n",
       "    </tr>\n",
       "    <tr>\n",
       "      <th>38056</th>\n",
       "      <td>tt0038738</td>\n",
       "      <td>tvMovie</td>\n",
       "      <td>A Midsummer Night's Dream</td>\n",
       "      <td>A Midsummer Night's Dream</td>\n",
       "      <td>0.0</td>\n",
       "      <td>1946.0</td>\n",
       "      <td>NaN</td>\n",
       "      <td>150.0</td>\n",
       "      <td>Drama,Fantasy</td>\n",
       "    </tr>\n",
       "    <tr>\n",
       "      <th>...</th>\n",
       "      <td>...</td>\n",
       "      <td>...</td>\n",
       "      <td>...</td>\n",
       "      <td>...</td>\n",
       "      <td>...</td>\n",
       "      <td>...</td>\n",
       "      <td>...</td>\n",
       "      <td>...</td>\n",
       "      <td>...</td>\n",
       "    </tr>\n",
       "    <tr>\n",
       "      <th>10408643</th>\n",
       "      <td>tt9916690</td>\n",
       "      <td>tvEpisode</td>\n",
       "      <td>Horrid Henry Delivers the Milk</td>\n",
       "      <td>Horrid Henry Delivers the Milk</td>\n",
       "      <td>0.0</td>\n",
       "      <td>2012.0</td>\n",
       "      <td>NaN</td>\n",
       "      <td>10.0</td>\n",
       "      <td>Adventure,Animation,Comedy</td>\n",
       "    </tr>\n",
       "    <tr>\n",
       "      <th>10408644</th>\n",
       "      <td>tt9916692</td>\n",
       "      <td>tvMovie</td>\n",
       "      <td>Teatroteka: Czlowiek bez twarzy</td>\n",
       "      <td>Teatroteka: Czlowiek bez twarzy</td>\n",
       "      <td>0.0</td>\n",
       "      <td>2015.0</td>\n",
       "      <td>NaN</td>\n",
       "      <td>66.0</td>\n",
       "      <td>Drama</td>\n",
       "    </tr>\n",
       "    <tr>\n",
       "      <th>10408677</th>\n",
       "      <td>tt9916766</td>\n",
       "      <td>tvEpisode</td>\n",
       "      <td>Episode #10.15</td>\n",
       "      <td>Episode #10.15</td>\n",
       "      <td>0.0</td>\n",
       "      <td>2019.0</td>\n",
       "      <td>NaN</td>\n",
       "      <td>43.0</td>\n",
       "      <td>Family,Game-Show,Reality-TV</td>\n",
       "    </tr>\n",
       "    <tr>\n",
       "      <th>10408712</th>\n",
       "      <td>tt9916840</td>\n",
       "      <td>tvEpisode</td>\n",
       "      <td>Horrid Henry's Comic Caper</td>\n",
       "      <td>Horrid Henry's Comic Caper</td>\n",
       "      <td>0.0</td>\n",
       "      <td>2014.0</td>\n",
       "      <td>NaN</td>\n",
       "      <td>11.0</td>\n",
       "      <td>Adventure,Animation,Comedy</td>\n",
       "    </tr>\n",
       "    <tr>\n",
       "      <th>10408720</th>\n",
       "      <td>tt9916880</td>\n",
       "      <td>tvEpisode</td>\n",
       "      <td>Horrid Henry Knows It All</td>\n",
       "      <td>Horrid Henry Knows It All</td>\n",
       "      <td>0.0</td>\n",
       "      <td>2014.0</td>\n",
       "      <td>NaN</td>\n",
       "      <td>10.0</td>\n",
       "      <td>Adventure,Animation,Comedy</td>\n",
       "    </tr>\n",
       "  </tbody>\n",
       "</table>\n",
       "<p>1714219 rows × 9 columns</p>\n",
       "</div>"
      ],
      "text/plain": [
       "             tconst  titleType                     primaryTitle  \\\n",
       "28755     tt0029270    tvShort           Much Ado About Nothing   \n",
       "29765     tt0030298    tvMovie                    Julius Caesar   \n",
       "34971     tt0035599   tvSeries      Voice of Firestone Televues   \n",
       "37600     tt0038276   tvSeries                You Are an Artist   \n",
       "38056     tt0038738    tvMovie        A Midsummer Night's Dream   \n",
       "...             ...        ...                              ...   \n",
       "10408643  tt9916690  tvEpisode   Horrid Henry Delivers the Milk   \n",
       "10408644  tt9916692    tvMovie  Teatroteka: Czlowiek bez twarzy   \n",
       "10408677  tt9916766  tvEpisode                   Episode #10.15   \n",
       "10408712  tt9916840  tvEpisode       Horrid Henry's Comic Caper   \n",
       "10408720  tt9916880  tvEpisode        Horrid Henry Knows It All   \n",
       "\n",
       "                            originalTitle  isAdult  startYear  endYear  \\\n",
       "28755              Much Ado About Nothing      0.0     1937.0      NaN   \n",
       "29765                       Julius Caesar      0.0     1938.0      NaN   \n",
       "34971         Voice of Firestone Televues      0.0     1943.0   1947.0   \n",
       "37600                   You Are an Artist      0.0     1946.0   1955.0   \n",
       "38056           A Midsummer Night's Dream      0.0     1946.0      NaN   \n",
       "...                                   ...      ...        ...      ...   \n",
       "10408643   Horrid Henry Delivers the Milk      0.0     2012.0      NaN   \n",
       "10408644  Teatroteka: Czlowiek bez twarzy      0.0     2015.0      NaN   \n",
       "10408677                   Episode #10.15      0.0     2019.0      NaN   \n",
       "10408712       Horrid Henry's Comic Caper      0.0     2014.0      NaN   \n",
       "10408720        Horrid Henry Knows It All      0.0     2014.0      NaN   \n",
       "\n",
       "          runtimeMinutes                       genres  \n",
       "28755               10.0         Comedy,Romance,Short  \n",
       "29765              101.0                Drama,History  \n",
       "34971               15.0                          NaN  \n",
       "37600               15.0                    Talk-Show  \n",
       "38056              150.0                Drama,Fantasy  \n",
       "...                  ...                          ...  \n",
       "10408643            10.0   Adventure,Animation,Comedy  \n",
       "10408644            66.0                        Drama  \n",
       "10408677            43.0  Family,Game-Show,Reality-TV  \n",
       "10408712            11.0   Adventure,Animation,Comedy  \n",
       "10408720            10.0   Adventure,Animation,Comedy  \n",
       "\n",
       "[1714219 rows x 9 columns]"
      ]
     },
     "execution_count": 6,
     "metadata": {},
     "output_type": "execute_result"
    }
   ],
   "source": [
    "titles_df = titles_df.loc[titles_df['primaryTitle'] == titles_df['originalTitle']]\n",
    "titles_df"
   ]
  },
  {
   "cell_type": "code",
   "execution_count": 7,
   "id": "91d0d387-2d43-4f8f-a6b0-197041951cc3",
   "metadata": {},
   "outputs": [],
   "source": [
    "def principal_component_analysis(dataframe, key_list):\n",
    "    new_dataframe = dataframe[key_list]\n",
    "\n",
    "    # Compute the mean and std of the data\n",
    "    mean = np.mean(new_dataframe, axis=0)\n",
    "    std = np.std(new_dataframe, axis=0)\n",
    "    # Standardize the data by subtracting the mean and dividing by std\n",
    "    standardized_data = (new_dataframe - mean) / std\n",
    "    \n",
    "    # Compute the covariance matrix\n",
    "    cov_matrix = np.cov(standardized_data, rowvar=False)\n",
    "\n",
    "    # Get the eigenvalues and eigenvectors\n",
    "    eigen_values, eigen_vectors = np.linalg.eig(cov_matrix)\n",
    "\n",
    "    # Sort the eigenvectors by decreasing eigenvalues\n",
    "    sorted_index = np.argsort(eigen_values)[::-1]\n",
    "    sorted_eigenvalue = eigen_values[sorted_index]\n",
    "    sorted_eigenvectors = eigen_vectors[:, sorted_index]\n",
    "\n",
    "    # Transform the data\n",
    "    return np.dot(standardized_data, sorted_eigenvectors)"
   ]
  },
  {
   "cell_type": "code",
   "execution_count": 8,
   "id": "087af943-ff51-4acc-ac8d-f26bed3f2709",
   "metadata": {},
   "outputs": [
    {
     "data": {
      "text/plain": [
       "array([[-2.24930501, -1.92286087, -2.18237185],\n",
       "       [-2.85453809,  0.03628494, -2.51660433],\n",
       "       [-2.07057413, -1.70349914, -1.98260552],\n",
       "       ...,\n",
       "       [ 0.44219416,  0.32168503,  0.69178961],\n",
       "       [ 0.48927506, -0.45459475,  0.63876866],\n",
       "       [ 0.49631782, -0.47591732,  0.64284475]])"
      ]
     },
     "execution_count": 8,
     "metadata": {},
     "output_type": "execute_result"
    }
   ],
   "source": [
    "foo = principal_component_analysis(titles_df,[\"isAdult\",'runtimeMinutes', \"startYear\"])\n",
    "foo"
   ]
  },
  {
   "cell_type": "code",
   "execution_count": 52,
   "id": "d80ab413-da96-46eb-b6bf-2cf30d962a61",
   "metadata": {},
   "outputs": [],
   "source": [
    "\"\"\"\n",
    "Least Squares\n",
    "\"\"\"\n",
    "def least_squares_method(dataframe, key1, key2):\n",
    "    col1 , col2 = dataframe[key1], dataframe[key2]\n",
    "    mean_x, mean_y = np.mean(col1), np.mean(col2)\n",
    "    numer, den = 0, 0\n",
    "    \n",
    "    for i in range(len(dataframe[key1])):\n",
    "        numer += (col1.iloc[i] - mean_x) * (col2.iloc[i] - mean_y)\n",
    "        den += (col1.iloc[i] - mean_x) ** 2\n",
    "\n",
    "    if den == 0:\n",
    "        raise ValueError(\"Denominator is 0.\")\n",
    "        \n",
    "    m = numer / den\n",
    "    c = mean_y - (m * mean_x)\n",
    "\n",
    "    return m,c\n",
    " "
   ]
  },
  {
   "cell_type": "code",
   "execution_count": 53,
   "id": "e799f664",
   "metadata": {},
   "outputs": [
    {
     "data": {
      "text/plain": [
       "(-0.03286783674915055, 107.06194578859679)"
      ]
     },
     "execution_count": 53,
     "metadata": {},
     "output_type": "execute_result"
    }
   ],
   "source": [
    "zoo = least_squares_method(titles_df, \"startYear\", \"runtimeMinutes\")\n",
    "zoo"
   ]
  },
  {
   "cell_type": "code",
   "execution_count": 19,
   "id": "29122d34-a645-4268-b781-c55742c6b7ae",
   "metadata": {},
   "outputs": [
    {
     "data": {
      "text/plain": [
       "Index(['tconst', 'titleType', 'primaryTitle', 'originalTitle', 'isAdult',\n",
       "       'startYear', 'endYear', 'runtimeMinutes', 'genres', 'predicted_labels'],\n",
       "      dtype='object')"
      ]
     },
     "execution_count": 19,
     "metadata": {},
     "output_type": "execute_result"
    }
   ],
   "source": [
    "titles_df.columns"
   ]
  },
  {
   "cell_type": "code",
   "execution_count": 50,
   "id": "2276149d-4a36-4229-9cea-f4ba4a0f6c1b",
   "metadata": {},
   "outputs": [],
   "source": [
    "def least_squares_classification(dataframe, key1, key2, num_classes):\n",
    "    col1, col2 = dataframe[key1], dataframe[key2]\n",
    "\n",
    "    # Initialize arrays for coefficients and intercepts\n",
    "    coefficients = np.zeros((num_classes, 1))  # Each class has a single coefficient\n",
    "    intercepts = np.zeros(num_classes)\n",
    "\n",
    "    for class_label in range(num_classes):\n",
    "        class_indicator = (dataframe['titleType'] == class_label).astype(int)\n",
    "\n",
    "        # Compute coefficients and intercept for the current class\n",
    "        mean_x, mean_y = np.mean(col1), np.mean(col2)\n",
    "        numer, den = 0, 0\n",
    "\n",
    "        for i in range(len(dataframe[key1])):\n",
    "            numer += (col1.iloc[i] - mean_x) * (class_indicator.iloc[i] - mean_y)\n",
    "            den += (col1.iloc[i] - mean_x) ** 2\n",
    "\n",
    "        if den == 0:\n",
    "            raise ValueError(\"Denominator is 0.\")\n",
    "\n",
    "        coefficients[class_label, 0] = numer / den\n",
    "        intercepts[class_label] = mean_y - (coefficients[class_label, 0] * mean_x)\n",
    "        print(coefficients, 'and', intercepts)\n",
    "\n",
    "    # Apply least squares lines to the data for each class\n",
    "    predictions = np.dot(coefficients, col1.values.reshape(1, -1)) + intercepts.reshape(-1, 1)\n",
    "\n",
    "    # Determine the predicted class for each data point\n",
    "    predicted_labels = np.argmax(predictions, axis=0)\n",
    "\n",
    "    return predicted_labels\n",
    "\n"
   ]
  },
  {
   "cell_type": "code",
   "execution_count": 51,
   "id": "d247ce49-1e74-49ea-9d6e-96ff740785c6",
   "metadata": {},
   "outputs": [
    {
     "data": {
      "text/plain": [
       "6"
      ]
     },
     "execution_count": 51,
     "metadata": {},
     "output_type": "execute_result"
    }
   ],
   "source": [
    "num_classes = titles_df['titleType'].nunique()\n",
    "num_classes"
   ]
  },
  {
   "cell_type": "code",
   "execution_count": 52,
   "id": "4a077a02-5828-4011-9268-9536d6fd8343",
   "metadata": {},
   "outputs": [
    {
     "name": "stdout",
     "output_type": "stream",
     "text": [
      "[[2.13819288e-12]\n",
      " [0.00000000e+00]\n",
      " [0.00000000e+00]\n",
      " [0.00000000e+00]\n",
      " [0.00000000e+00]\n",
      " [0.00000000e+00]] and [2003.11377076    0.            0.            0.            0.\n",
      "    0.        ]\n",
      "[[2.13819288e-12]\n",
      " [2.13819288e-12]\n",
      " [0.00000000e+00]\n",
      " [0.00000000e+00]\n",
      " [0.00000000e+00]\n",
      " [0.00000000e+00]] and [2003.11377076 2003.11377076    0.            0.            0.\n",
      "    0.        ]\n",
      "[[2.13819288e-12]\n",
      " [2.13819288e-12]\n",
      " [2.13819288e-12]\n",
      " [0.00000000e+00]\n",
      " [0.00000000e+00]\n",
      " [0.00000000e+00]] and [2003.11377076 2003.11377076 2003.11377076    0.            0.\n",
      "    0.        ]\n",
      "[[2.13819288e-12]\n",
      " [2.13819288e-12]\n",
      " [2.13819288e-12]\n",
      " [2.13819288e-12]\n",
      " [0.00000000e+00]\n",
      " [0.00000000e+00]] and [2003.11377076 2003.11377076 2003.11377076 2003.11377076    0.\n",
      "    0.        ]\n",
      "[[2.13819288e-12]\n",
      " [2.13819288e-12]\n",
      " [2.13819288e-12]\n",
      " [2.13819288e-12]\n",
      " [2.13819288e-12]\n",
      " [0.00000000e+00]] and [2003.11377076 2003.11377076 2003.11377076 2003.11377076 2003.11377076\n",
      "    0.        ]\n",
      "[[2.13819288e-12]\n",
      " [2.13819288e-12]\n",
      " [2.13819288e-12]\n",
      " [2.13819288e-12]\n",
      " [2.13819288e-12]\n",
      " [2.13819288e-12]] and [2003.11377076 2003.11377076 2003.11377076 2003.11377076 2003.11377076\n",
      " 2003.11377076]\n"
     ]
    }
   ],
   "source": [
    "predicted_labels = least_squares_classification(titles_df, \"runtimeMinutes\", \"startYear\", num_classes)"
   ]
  },
  {
   "cell_type": "code",
   "execution_count": 46,
   "id": "04dae54e-1bea-456d-826a-9ae65cd1e892",
   "metadata": {},
   "outputs": [],
   "source": [
    "import numpy as np\n",
    "\n",
    "def least_squares_classification(dataframe, key1, key2, class_key):\n",
    "    col1, col2, class_labels = dataframe[key1], dataframe[key2], dataframe[class_key]\n",
    "    \n",
    "    # Get unique class labels\n",
    "    classes = np.unique(class_labels)\n",
    "    \n",
    "    # Initialize matrices for the least squares problem\n",
    "    A = np.ones((len(dataframe), 1))  # Bias term\n",
    "    A = np.hstack((A, col1.values.reshape(-1, 1), col2.values.reshape(-1, 1)))  # Append input features\n",
    "    B = np.zeros((len(dataframe), len(classes)))\n",
    "\n",
    "    for i, c in enumerate(classes):\n",
    "        # Set 1 for rows where the class is c, 0 otherwise\n",
    "        B[:, i] = (class_labels == c).astype(int)\n",
    "\n",
    "    # Solve the least squares problem\n",
    "    coefficients, residuals, _, _ = np.linalg.lstsq(A, B, rcond=None)\n",
    "\n",
    "    return coefficients[1:], coefficients[0]\n"
   ]
  },
  {
   "cell_type": "code",
   "execution_count": 47,
   "id": "a5c5ce88-c929-40c4-81d2-f6a51c3f5ded",
   "metadata": {},
   "outputs": [
    {
     "name": "stdout",
     "output_type": "stream",
     "text": [
      "Coefficients (m): [[-1.46282867e-03  2.40231038e-04  8.43807262e-04  1.59575135e-04\n",
      "  -7.60219684e-05  2.95237199e-04]\n",
      " [ 1.12478726e-01 -5.58509369e-03 -4.45384996e-02 -4.74524213e-02\n",
      "  -5.75876004e-03 -9.14395144e-03]]\n",
      "Intercept (c): [9.23574768e-01 9.56906227e-05 2.04587683e-02 4.72838342e-02\n",
      " 8.15137147e-03 4.35567770e-04]\n"
     ]
    }
   ],
   "source": [
    "\n",
    "m, c = least_squares_classification(titles_df, 'runtimeMinutes', 'isAdult', 'titleType')\n",
    "print(\"Coefficients (m):\", m)\n",
    "print(\"Intercept (c):\", c)\n"
   ]
  },
  {
   "cell_type": "code",
   "execution_count": 39,
   "id": "ecd38b47-bce7-4270-87d0-a443c297a94b",
   "metadata": {},
   "outputs": [
    {
     "name": "stdout",
     "output_type": "stream",
     "text": [
      "Predicted labels:\n",
      "          titleType  predicted_labels\n",
      "28755       tvShort                 0\n",
      "29765       tvMovie                 0\n",
      "34971      tvSeries                 0\n",
      "37600      tvSeries                 0\n",
      "38056       tvMovie                 0\n",
      "...             ...               ...\n",
      "10408643  tvEpisode                 0\n",
      "10408644    tvMovie                 0\n",
      "10408677  tvEpisode                 0\n",
      "10408712  tvEpisode                 0\n",
      "10408720  tvEpisode                 0\n",
      "\n",
      "[1714219 rows x 2 columns]\n"
     ]
    }
   ],
   "source": [
    "\n",
    "\n",
    "# Add the predicted labels to the dataframe\n",
    "titles_df['predicted_labels'] = predicted_labels\n",
    "\n",
    "# Display the results\n",
    "print(\"Predicted labels:\")\n",
    "print(titles_df[['titleType', 'predicted_labels']])"
   ]
  },
  {
   "cell_type": "code",
   "execution_count": 32,
   "id": "26215a2c-f8f9-4658-8a8d-bb3b07234b6a",
   "metadata": {},
   "outputs": [
    {
     "name": "stdout",
     "output_type": "stream",
     "text": [
      "Number of 0s in Predicted Labels: 1714219\n"
     ]
    }
   ],
   "source": [
    "num_zeros = np.count_nonzero(predicted_labels == 0.0)\n",
    "print(\"Number of 0s in Predicted Labels:\", num_zeros)"
   ]
  },
  {
   "cell_type": "code",
   "execution_count": 54,
   "id": "88d22751-57b6-4bf0-8558-f8144dbe6800",
   "metadata": {},
   "outputs": [
    {
     "ename": "MemoryError",
     "evalue": "Unable to allocate 21.4 TiB for an array with shape (1714219, 1714219) and data type float64",
     "output_type": "error",
     "traceback": [
      "\u001b[1;31m---------------------------------------------------------------------------\u001b[0m",
      "\u001b[1;31mMemoryError\u001b[0m                               Traceback (most recent call last)",
      "Cell \u001b[1;32mIn[54], line 5\u001b[0m\n\u001b[0;32m      1\u001b[0m \u001b[38;5;124;03m\"\"\"\u001b[39;00m\n\u001b[0;32m      2\u001b[0m \u001b[38;5;124;03mCompare with pre-built implementation\u001b[39;00m\n\u001b[0;32m      3\u001b[0m \u001b[38;5;124;03m\"\"\"\u001b[39;00m\n\u001b[0;32m      4\u001b[0m subset \u001b[38;5;241m=\u001b[39m titles_df[[\u001b[38;5;124m\"\u001b[39m\u001b[38;5;124mstartYear\u001b[39m\u001b[38;5;124m\"\u001b[39m, \u001b[38;5;124m\"\u001b[39m\u001b[38;5;124mruntimeMinutes\u001b[39m\u001b[38;5;124m\"\u001b[39m]]\n\u001b[1;32m----> 5\u001b[0m coeff \u001b[38;5;241m=\u001b[39m \u001b[43mnp\u001b[49m\u001b[38;5;241;43m.\u001b[39;49m\u001b[43mcorrcoef\u001b[49m\u001b[43m(\u001b[49m\u001b[43msubset\u001b[49m\u001b[43m)\u001b[49m\n\u001b[0;32m      7\u001b[0m zoo2 \u001b[38;5;241m=\u001b[39m np\u001b[38;5;241m.\u001b[39mlinalg\u001b[38;5;241m.\u001b[39mlstsq( coeff, [titles_df[[\u001b[38;5;124m\"\u001b[39m\u001b[38;5;124mstartYear\u001b[39m\u001b[38;5;124m\"\u001b[39m, \u001b[38;5;124m\"\u001b[39m\u001b[38;5;124mruntimeMinutes\u001b[39m\u001b[38;5;124m\"\u001b[39m]]])\n\u001b[0;32m      8\u001b[0m zoo2\n",
      "File \u001b[1;32mC:\\Python312\\Lib\\site-packages\\numpy\\lib\\function_base.py:2889\u001b[0m, in \u001b[0;36mcorrcoef\u001b[1;34m(x, y, rowvar, bias, ddof, dtype)\u001b[0m\n\u001b[0;32m   2885\u001b[0m \u001b[38;5;28;01mif\u001b[39;00m bias \u001b[38;5;129;01mis\u001b[39;00m \u001b[38;5;129;01mnot\u001b[39;00m np\u001b[38;5;241m.\u001b[39m_NoValue \u001b[38;5;129;01mor\u001b[39;00m ddof \u001b[38;5;129;01mis\u001b[39;00m \u001b[38;5;129;01mnot\u001b[39;00m np\u001b[38;5;241m.\u001b[39m_NoValue:\n\u001b[0;32m   2886\u001b[0m     \u001b[38;5;66;03m# 2015-03-15, 1.10\u001b[39;00m\n\u001b[0;32m   2887\u001b[0m     warnings\u001b[38;5;241m.\u001b[39mwarn(\u001b[38;5;124m'\u001b[39m\u001b[38;5;124mbias and ddof have no effect and are deprecated\u001b[39m\u001b[38;5;124m'\u001b[39m,\n\u001b[0;32m   2888\u001b[0m                   \u001b[38;5;167;01mDeprecationWarning\u001b[39;00m, stacklevel\u001b[38;5;241m=\u001b[39m\u001b[38;5;241m2\u001b[39m)\n\u001b[1;32m-> 2889\u001b[0m c \u001b[38;5;241m=\u001b[39m \u001b[43mcov\u001b[49m\u001b[43m(\u001b[49m\u001b[43mx\u001b[49m\u001b[43m,\u001b[49m\u001b[43m \u001b[49m\u001b[43my\u001b[49m\u001b[43m,\u001b[49m\u001b[43m \u001b[49m\u001b[43mrowvar\u001b[49m\u001b[43m,\u001b[49m\u001b[43m \u001b[49m\u001b[43mdtype\u001b[49m\u001b[38;5;241;43m=\u001b[39;49m\u001b[43mdtype\u001b[49m\u001b[43m)\u001b[49m\n\u001b[0;32m   2890\u001b[0m \u001b[38;5;28;01mtry\u001b[39;00m:\n\u001b[0;32m   2891\u001b[0m     d \u001b[38;5;241m=\u001b[39m diag(c)\n",
      "File \u001b[1;32mC:\\Python312\\Lib\\site-packages\\numpy\\lib\\function_base.py:2747\u001b[0m, in \u001b[0;36mcov\u001b[1;34m(m, y, rowvar, bias, ddof, fweights, aweights, dtype)\u001b[0m\n\u001b[0;32m   2745\u001b[0m \u001b[38;5;28;01melse\u001b[39;00m:\n\u001b[0;32m   2746\u001b[0m     X_T \u001b[38;5;241m=\u001b[39m (X\u001b[38;5;241m*\u001b[39mw)\u001b[38;5;241m.\u001b[39mT\n\u001b[1;32m-> 2747\u001b[0m c \u001b[38;5;241m=\u001b[39m \u001b[43mdot\u001b[49m\u001b[43m(\u001b[49m\u001b[43mX\u001b[49m\u001b[43m,\u001b[49m\u001b[43m \u001b[49m\u001b[43mX_T\u001b[49m\u001b[38;5;241;43m.\u001b[39;49m\u001b[43mconj\u001b[49m\u001b[43m(\u001b[49m\u001b[43m)\u001b[49m\u001b[43m)\u001b[49m\n\u001b[0;32m   2748\u001b[0m c \u001b[38;5;241m*\u001b[39m\u001b[38;5;241m=\u001b[39m np\u001b[38;5;241m.\u001b[39mtrue_divide(\u001b[38;5;241m1\u001b[39m, fact)\n\u001b[0;32m   2749\u001b[0m \u001b[38;5;28;01mreturn\u001b[39;00m c\u001b[38;5;241m.\u001b[39msqueeze()\n",
      "\u001b[1;31mMemoryError\u001b[0m: Unable to allocate 21.4 TiB for an array with shape (1714219, 1714219) and data type float64"
     ]
    }
   ],
   "source": [
    "\"\"\"\n",
    "Compare with pre-built implementation\n",
    "\"\"\"\n",
    "start_year = titles_df[\"startYear\"]\n",
    "minutes = titles_df[\"runtimeMinutes\"]\n",
    "\n",
    "A = np.vstack([start_year, np.ones(len(start_year))]).T\n",
    "\n",
    "\n",
    "zoo2 = np.linalg.lstsq( A, minutes, rcond=None)\n",
    "zoo2[0]"
   ]
  },
  {
   "cell_type": "code",
   "execution_count": null,
   "id": "bba26ce6-4324-498a-8ca6-81f016500d54",
   "metadata": {},
   "outputs": [],
   "source": [
    "def softmax(values):\n",
    "    # element wise exponential value, sum of these values\n",
    "    exp_values = np.exp(values)\n",
    "    exp_values_sum = np.sum(exp_values)\n",
    " \n",
    "    # Returing the softmax output.\n",
    "    return exp_values/exp_values_sum\n",
    "\n",
    "def cross_entropy(y_pred, y_true):\n",
    "    # computing softmax values for predicted values\n",
    "    y_pred, loss  = softmax(y_pred), 0\n",
    "     \n",
    "    # Doing cross entropy Loss\n",
    "    for i in range(len(y_pred)):\n",
    "        loss += (-1 * y_true[i] * np.log(y_pred[i]) )\n",
    " \n",
    "    return loss"
   ]
  }
 ],
 "metadata": {
  "kernelspec": {
   "display_name": "Python 3",
   "language": "python",
   "name": "python3"
  },
  "language_info": {
   "codemirror_mode": {
    "name": "ipython",
    "version": 3
   },
   "file_extension": ".py",
   "mimetype": "text/x-python",
   "name": "python",
   "nbconvert_exporter": "python",
   "pygments_lexer": "ipython3",
   "version": "3.8.5"
  }
 },
 "nbformat": 4,
 "nbformat_minor": 5
}
