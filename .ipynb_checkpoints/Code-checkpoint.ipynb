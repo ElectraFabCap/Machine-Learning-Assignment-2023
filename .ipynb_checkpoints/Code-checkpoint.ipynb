{
 "cells": [
  {
   "cell_type": "code",
   "execution_count": 1,
   "id": "7783dbf9-e564-4b77-aa7b-8a52e3f4872a",
   "metadata": {},
   "outputs": [],
   "source": [
    "import pandas as pd\n",
    "import csv\n",
    "import numpy as np"
   ]
  },
  {
   "cell_type": "code",
   "execution_count": 2,
   "id": "733618b0-66b8-4454-a47a-e782fc6eafca",
   "metadata": {},
   "outputs": [],
   "source": [
    "column_types = {\n",
    "    'isAdult': float,\n",
    "    'startYear': float,\n",
    "    'endYear': float,\n",
    "    'runtimeMinutes': float,\n",
    "    'tconst': str,\n",
    "    'titleType': str,\n",
    "    'primaryTitle': str,\n",
    "    'originalTitle': str,\n",
    "    'genres': str\n",
    "}\n",
    "\n",
    "titles_df = pd.read_csv(\"data.tsv\", \n",
    "                        dtype=column_types,\n",
    "                        na_values=r'\\N',\n",
    "                        sep=\"\\t\",\n",
    "                        quoting=csv.QUOTE_NONE)\n",
    "\n",
    "titles_df = titles_df.dropna(subset=['isAdult','runtimeMinutes'])"
   ]
  },
  {
   "cell_type": "code",
   "execution_count": 3,
   "id": "19ececc3-f4f2-435c-a441-9ed0a662aff5",
   "metadata": {},
   "outputs": [
    {
     "name": "stdout",
     "output_type": "stream",
     "text": [
      "(3146018, 9)\n"
     ]
    },
    {
     "data": {
      "text/html": [
       "<div>\n",
       "<style scoped>\n",
       "    .dataframe tbody tr th:only-of-type {\n",
       "        vertical-align: middle;\n",
       "    }\n",
       "\n",
       "    .dataframe tbody tr th {\n",
       "        vertical-align: top;\n",
       "    }\n",
       "\n",
       "    .dataframe thead th {\n",
       "        text-align: right;\n",
       "    }\n",
       "</style>\n",
       "<table border=\"1\" class=\"dataframe\">\n",
       "  <thead>\n",
       "    <tr style=\"text-align: right;\">\n",
       "      <th></th>\n",
       "      <th>tconst</th>\n",
       "      <th>titleType</th>\n",
       "      <th>primaryTitle</th>\n",
       "      <th>originalTitle</th>\n",
       "      <th>isAdult</th>\n",
       "      <th>startYear</th>\n",
       "      <th>endYear</th>\n",
       "      <th>runtimeMinutes</th>\n",
       "      <th>genres</th>\n",
       "    </tr>\n",
       "  </thead>\n",
       "  <tbody>\n",
       "    <tr>\n",
       "      <th>0</th>\n",
       "      <td>tt0000001</td>\n",
       "      <td>short</td>\n",
       "      <td>Carmencita</td>\n",
       "      <td>Carmencita</td>\n",
       "      <td>0.0</td>\n",
       "      <td>1894.0</td>\n",
       "      <td>NaN</td>\n",
       "      <td>1.0</td>\n",
       "      <td>Documentary,Short</td>\n",
       "    </tr>\n",
       "    <tr>\n",
       "      <th>1</th>\n",
       "      <td>tt0000002</td>\n",
       "      <td>short</td>\n",
       "      <td>Le clown et ses chiens</td>\n",
       "      <td>Le clown et ses chiens</td>\n",
       "      <td>0.0</td>\n",
       "      <td>1892.0</td>\n",
       "      <td>NaN</td>\n",
       "      <td>5.0</td>\n",
       "      <td>Animation,Short</td>\n",
       "    </tr>\n",
       "    <tr>\n",
       "      <th>2</th>\n",
       "      <td>tt0000003</td>\n",
       "      <td>short</td>\n",
       "      <td>Pauvre Pierrot</td>\n",
       "      <td>Pauvre Pierrot</td>\n",
       "      <td>0.0</td>\n",
       "      <td>1892.0</td>\n",
       "      <td>NaN</td>\n",
       "      <td>4.0</td>\n",
       "      <td>Animation,Comedy,Romance</td>\n",
       "    </tr>\n",
       "    <tr>\n",
       "      <th>3</th>\n",
       "      <td>tt0000004</td>\n",
       "      <td>short</td>\n",
       "      <td>Un bon bock</td>\n",
       "      <td>Un bon bock</td>\n",
       "      <td>0.0</td>\n",
       "      <td>1892.0</td>\n",
       "      <td>NaN</td>\n",
       "      <td>12.0</td>\n",
       "      <td>Animation,Short</td>\n",
       "    </tr>\n",
       "    <tr>\n",
       "      <th>4</th>\n",
       "      <td>tt0000005</td>\n",
       "      <td>short</td>\n",
       "      <td>Blacksmith Scene</td>\n",
       "      <td>Blacksmith Scene</td>\n",
       "      <td>0.0</td>\n",
       "      <td>1893.0</td>\n",
       "      <td>NaN</td>\n",
       "      <td>1.0</td>\n",
       "      <td>Comedy,Short</td>\n",
       "    </tr>\n",
       "  </tbody>\n",
       "</table>\n",
       "</div>"
      ],
      "text/plain": [
       "      tconst titleType            primaryTitle           originalTitle  \\\n",
       "0  tt0000001     short              Carmencita              Carmencita   \n",
       "1  tt0000002     short  Le clown et ses chiens  Le clown et ses chiens   \n",
       "2  tt0000003     short          Pauvre Pierrot          Pauvre Pierrot   \n",
       "3  tt0000004     short             Un bon bock             Un bon bock   \n",
       "4  tt0000005     short        Blacksmith Scene        Blacksmith Scene   \n",
       "\n",
       "   isAdult  startYear  endYear  runtimeMinutes                    genres  \n",
       "0      0.0     1894.0      NaN             1.0         Documentary,Short  \n",
       "1      0.0     1892.0      NaN             5.0           Animation,Short  \n",
       "2      0.0     1892.0      NaN             4.0  Animation,Comedy,Romance  \n",
       "3      0.0     1892.0      NaN            12.0           Animation,Short  \n",
       "4      0.0     1893.0      NaN             1.0              Comedy,Short  "
      ]
     },
     "execution_count": 3,
     "metadata": {},
     "output_type": "execute_result"
    }
   ],
   "source": [
    "print(titles_df.shape)\n",
    "titles_df.head()"
   ]
  },
  {
   "cell_type": "code",
   "execution_count": 4,
   "id": "0dbba184-7780-4655-9e3d-2bdd9852e6c4",
   "metadata": {},
   "outputs": [
    {
     "data": {
      "text/plain": [
       "array(['short', 'movie', 'tvShort', 'tvMovie', 'tvSeries', 'tvEpisode',\n",
       "       'tvMiniSeries', 'video', 'tvSpecial', 'videoGame'], dtype=object)"
      ]
     },
     "execution_count": 4,
     "metadata": {},
     "output_type": "execute_result"
    }
   ],
   "source": [
    "titles_df['titleType'].unique()"
   ]
  },
  {
   "cell_type": "code",
   "execution_count": 5,
   "id": "19c7652c-4bef-44cd-9be6-275142a2f241",
   "metadata": {},
   "outputs": [],
   "source": [
    "tv_types = [\n",
    "    'tvMovie',\n",
    "    'tvSeries',\n",
    "    'tvEpisode',\n",
    "    'tvShort',\n",
    "    'tvMiniSeries',\n",
    "    'tvSpecial'\n",
    "]\n",
    "titles_df = titles_df.loc[titles_df['titleType'].isin(tv_types)]"
   ]
  },
  {
   "cell_type": "code",
   "execution_count": 6,
   "id": "6af96da2-8ffd-41b8-ac2a-a74a83dcdf37",
   "metadata": {},
   "outputs": [
    {
     "data": {
      "text/html": [
       "<div>\n",
       "<style scoped>\n",
       "    .dataframe tbody tr th:only-of-type {\n",
       "        vertical-align: middle;\n",
       "    }\n",
       "\n",
       "    .dataframe tbody tr th {\n",
       "        vertical-align: top;\n",
       "    }\n",
       "\n",
       "    .dataframe thead th {\n",
       "        text-align: right;\n",
       "    }\n",
       "</style>\n",
       "<table border=\"1\" class=\"dataframe\">\n",
       "  <thead>\n",
       "    <tr style=\"text-align: right;\">\n",
       "      <th></th>\n",
       "      <th>tconst</th>\n",
       "      <th>titleType</th>\n",
       "      <th>primaryTitle</th>\n",
       "      <th>originalTitle</th>\n",
       "      <th>isAdult</th>\n",
       "      <th>startYear</th>\n",
       "      <th>endYear</th>\n",
       "      <th>runtimeMinutes</th>\n",
       "      <th>genres</th>\n",
       "    </tr>\n",
       "  </thead>\n",
       "  <tbody>\n",
       "    <tr>\n",
       "      <th>28755</th>\n",
       "      <td>tt0029270</td>\n",
       "      <td>tvShort</td>\n",
       "      <td>Much Ado About Nothing</td>\n",
       "      <td>Much Ado About Nothing</td>\n",
       "      <td>0.0</td>\n",
       "      <td>1937.0</td>\n",
       "      <td>NaN</td>\n",
       "      <td>10.0</td>\n",
       "      <td>Comedy,Romance,Short</td>\n",
       "    </tr>\n",
       "    <tr>\n",
       "      <th>29765</th>\n",
       "      <td>tt0030298</td>\n",
       "      <td>tvMovie</td>\n",
       "      <td>Julius Caesar</td>\n",
       "      <td>Julius Caesar</td>\n",
       "      <td>0.0</td>\n",
       "      <td>1938.0</td>\n",
       "      <td>NaN</td>\n",
       "      <td>101.0</td>\n",
       "      <td>Drama,History</td>\n",
       "    </tr>\n",
       "    <tr>\n",
       "      <th>34971</th>\n",
       "      <td>tt0035599</td>\n",
       "      <td>tvSeries</td>\n",
       "      <td>Voice of Firestone Televues</td>\n",
       "      <td>Voice of Firestone Televues</td>\n",
       "      <td>0.0</td>\n",
       "      <td>1943.0</td>\n",
       "      <td>1947.0</td>\n",
       "      <td>15.0</td>\n",
       "      <td>NaN</td>\n",
       "    </tr>\n",
       "    <tr>\n",
       "      <th>37600</th>\n",
       "      <td>tt0038276</td>\n",
       "      <td>tvSeries</td>\n",
       "      <td>You Are an Artist</td>\n",
       "      <td>You Are an Artist</td>\n",
       "      <td>0.0</td>\n",
       "      <td>1946.0</td>\n",
       "      <td>1955.0</td>\n",
       "      <td>15.0</td>\n",
       "      <td>Talk-Show</td>\n",
       "    </tr>\n",
       "    <tr>\n",
       "      <th>38056</th>\n",
       "      <td>tt0038738</td>\n",
       "      <td>tvMovie</td>\n",
       "      <td>A Midsummer Night's Dream</td>\n",
       "      <td>A Midsummer Night's Dream</td>\n",
       "      <td>0.0</td>\n",
       "      <td>1946.0</td>\n",
       "      <td>NaN</td>\n",
       "      <td>150.0</td>\n",
       "      <td>Drama,Fantasy</td>\n",
       "    </tr>\n",
       "    <tr>\n",
       "      <th>...</th>\n",
       "      <td>...</td>\n",
       "      <td>...</td>\n",
       "      <td>...</td>\n",
       "      <td>...</td>\n",
       "      <td>...</td>\n",
       "      <td>...</td>\n",
       "      <td>...</td>\n",
       "      <td>...</td>\n",
       "      <td>...</td>\n",
       "    </tr>\n",
       "    <tr>\n",
       "      <th>10408643</th>\n",
       "      <td>tt9916690</td>\n",
       "      <td>tvEpisode</td>\n",
       "      <td>Horrid Henry Delivers the Milk</td>\n",
       "      <td>Horrid Henry Delivers the Milk</td>\n",
       "      <td>0.0</td>\n",
       "      <td>2012.0</td>\n",
       "      <td>NaN</td>\n",
       "      <td>10.0</td>\n",
       "      <td>Adventure,Animation,Comedy</td>\n",
       "    </tr>\n",
       "    <tr>\n",
       "      <th>10408644</th>\n",
       "      <td>tt9916692</td>\n",
       "      <td>tvMovie</td>\n",
       "      <td>Teatroteka: Czlowiek bez twarzy</td>\n",
       "      <td>Teatroteka: Czlowiek bez twarzy</td>\n",
       "      <td>0.0</td>\n",
       "      <td>2015.0</td>\n",
       "      <td>NaN</td>\n",
       "      <td>66.0</td>\n",
       "      <td>Drama</td>\n",
       "    </tr>\n",
       "    <tr>\n",
       "      <th>10408677</th>\n",
       "      <td>tt9916766</td>\n",
       "      <td>tvEpisode</td>\n",
       "      <td>Episode #10.15</td>\n",
       "      <td>Episode #10.15</td>\n",
       "      <td>0.0</td>\n",
       "      <td>2019.0</td>\n",
       "      <td>NaN</td>\n",
       "      <td>43.0</td>\n",
       "      <td>Family,Game-Show,Reality-TV</td>\n",
       "    </tr>\n",
       "    <tr>\n",
       "      <th>10408712</th>\n",
       "      <td>tt9916840</td>\n",
       "      <td>tvEpisode</td>\n",
       "      <td>Horrid Henry's Comic Caper</td>\n",
       "      <td>Horrid Henry's Comic Caper</td>\n",
       "      <td>0.0</td>\n",
       "      <td>2014.0</td>\n",
       "      <td>NaN</td>\n",
       "      <td>11.0</td>\n",
       "      <td>Adventure,Animation,Comedy</td>\n",
       "    </tr>\n",
       "    <tr>\n",
       "      <th>10408720</th>\n",
       "      <td>tt9916880</td>\n",
       "      <td>tvEpisode</td>\n",
       "      <td>Horrid Henry Knows It All</td>\n",
       "      <td>Horrid Henry Knows It All</td>\n",
       "      <td>0.0</td>\n",
       "      <td>2014.0</td>\n",
       "      <td>NaN</td>\n",
       "      <td>10.0</td>\n",
       "      <td>Adventure,Animation,Comedy</td>\n",
       "    </tr>\n",
       "  </tbody>\n",
       "</table>\n",
       "<p>1895272 rows × 9 columns</p>\n",
       "</div>"
      ],
      "text/plain": [
       "             tconst  titleType                     primaryTitle  \\\n",
       "28755     tt0029270    tvShort           Much Ado About Nothing   \n",
       "29765     tt0030298    tvMovie                    Julius Caesar   \n",
       "34971     tt0035599   tvSeries      Voice of Firestone Televues   \n",
       "37600     tt0038276   tvSeries                You Are an Artist   \n",
       "38056     tt0038738    tvMovie        A Midsummer Night's Dream   \n",
       "...             ...        ...                              ...   \n",
       "10408643  tt9916690  tvEpisode   Horrid Henry Delivers the Milk   \n",
       "10408644  tt9916692    tvMovie  Teatroteka: Czlowiek bez twarzy   \n",
       "10408677  tt9916766  tvEpisode                   Episode #10.15   \n",
       "10408712  tt9916840  tvEpisode       Horrid Henry's Comic Caper   \n",
       "10408720  tt9916880  tvEpisode        Horrid Henry Knows It All   \n",
       "\n",
       "                            originalTitle  isAdult  startYear  endYear  \\\n",
       "28755              Much Ado About Nothing      0.0     1937.0      NaN   \n",
       "29765                       Julius Caesar      0.0     1938.0      NaN   \n",
       "34971         Voice of Firestone Televues      0.0     1943.0   1947.0   \n",
       "37600                   You Are an Artist      0.0     1946.0   1955.0   \n",
       "38056           A Midsummer Night's Dream      0.0     1946.0      NaN   \n",
       "...                                   ...      ...        ...      ...   \n",
       "10408643   Horrid Henry Delivers the Milk      0.0     2012.0      NaN   \n",
       "10408644  Teatroteka: Czlowiek bez twarzy      0.0     2015.0      NaN   \n",
       "10408677                   Episode #10.15      0.0     2019.0      NaN   \n",
       "10408712       Horrid Henry's Comic Caper      0.0     2014.0      NaN   \n",
       "10408720        Horrid Henry Knows It All      0.0     2014.0      NaN   \n",
       "\n",
       "          runtimeMinutes                       genres  \n",
       "28755               10.0         Comedy,Romance,Short  \n",
       "29765              101.0                Drama,History  \n",
       "34971               15.0                          NaN  \n",
       "37600               15.0                    Talk-Show  \n",
       "38056              150.0                Drama,Fantasy  \n",
       "...                  ...                          ...  \n",
       "10408643            10.0   Adventure,Animation,Comedy  \n",
       "10408644            66.0                        Drama  \n",
       "10408677            43.0  Family,Game-Show,Reality-TV  \n",
       "10408712            11.0   Adventure,Animation,Comedy  \n",
       "10408720            10.0   Adventure,Animation,Comedy  \n",
       "\n",
       "[1895272 rows x 9 columns]"
      ]
     },
     "execution_count": 6,
     "metadata": {},
     "output_type": "execute_result"
    }
   ],
   "source": [
    "titles_df = titles_df.loc[titles_df['primaryTitle'] == titles_df['originalTitle']]\n",
    "titles_df"
   ]
  },
  {
   "cell_type": "code",
   "execution_count": 7,
   "id": "ab82c04e-624e-402d-aee0-e4d1fcc58c2d",
   "metadata": {},
   "outputs": [
    {
     "data": {
      "text/plain": [
       "tconst                                tt25812270\n",
       "titleType                              tvEpisode\n",
       "primaryTitle      Vasaloppet 1922 (1:a Upplagan)\n",
       "originalTitle     Vasaloppet 1922 (1:a Upplagan)\n",
       "isAdult                                        0\n",
       "startYear                                   1922\n",
       "endYear                                      NaN\n",
       "runtimeMinutes                               453\n",
       "genres                                     Sport\n",
       "Name: 6209228, dtype: object"
      ]
     },
     "execution_count": 7,
     "metadata": {},
     "output_type": "execute_result"
    }
   ],
   "source": [
    "titles_df.loc[titles_df['startYear'].idxmin()]"
   ]
  },
  {
   "cell_type": "markdown",
   "id": "dbd840e3-6e45-4dad-88ea-1668af0ced3e",
   "metadata": {},
   "source": [
    "This cannot be true, because TV did not exist back then."
   ]
  },
  {
   "cell_type": "code",
   "execution_count": 8,
   "id": "ee017fc1-7ee3-4cf2-8576-25f1f5e85902",
   "metadata": {},
   "outputs": [
    {
     "data": {
      "text/plain": [
       "1955.0"
      ]
     },
     "execution_count": 8,
     "metadata": {},
     "output_type": "execute_result"
    }
   ],
   "source": [
    "titles_df['startYear'].quantile(.01)"
   ]
  },
  {
   "cell_type": "markdown",
   "id": "4ced65e7-9615-4123-a9c1-6bb2770cc61b",
   "metadata": {},
   "source": [
    "We'll be generous, and keep any TV-related stuff after 1945."
   ]
  },
  {
   "cell_type": "code",
   "execution_count": 9,
   "id": "cb2936fb-ae0f-4942-b283-3e04591d68ea",
   "metadata": {},
   "outputs": [
    {
     "data": {
      "text/plain": [
       "Index(['tconst', 'titleType', 'primaryTitle', 'originalTitle', 'isAdult',\n",
       "       'startYear', 'endYear', 'runtimeMinutes', 'genres'],\n",
       "      dtype='object')"
      ]
     },
     "execution_count": 9,
     "metadata": {},
     "output_type": "execute_result"
    }
   ],
   "source": [
    "titles_df = titles_df[titles_df['startYear'] >= 1945]\n",
    "titles_df.columns"
   ]
  },
  {
   "cell_type": "markdown",
   "id": "e2e5b7da-29cb-4742-9d59-15dcd2fbfe24",
   "metadata": {},
   "source": [
    "For those entries with no endYear, we'll use the current year."
   ]
  },
  {
   "cell_type": "code",
   "execution_count": 10,
   "id": "ca19b2c3-e4dd-4149-979b-922e3c569eca",
   "metadata": {},
   "outputs": [],
   "source": [
    "import datetime\n",
    "cur_year = int(datetime.datetime.now().year)\n",
    "titles_df = titles_df.copy()\n",
    "titles_df.loc[:, 'endYear'].fillna(cur_year, inplace=True)"
   ]
  },
  {
   "cell_type": "code",
   "execution_count": 11,
   "id": "91d0d387-2d43-4f8f-a6b0-197041951cc3",
   "metadata": {},
   "outputs": [],
   "source": [
    "def principal_component_analysis(dataframe, key_list):\n",
    "    new_dataframe = dataframe[key_list]\n",
    "\n",
    "    # Compute the mean and std of the data\n",
    "    mean = np.mean(new_dataframe, axis=0)\n",
    "    std = np.std(new_dataframe, axis=0)\n",
    "    # Standardize the data by subtracting the mean and dividing by std\n",
    "    standardized_data = (new_dataframe - mean) / std\n",
    "    \n",
    "    # Compute the covariance matrix\n",
    "    cov_matrix = np.cov(standardized_data, rowvar=False)\n",
    "\n",
    "    # Get the eigenvalues and eigenvectors\n",
    "    eigen_values, eigen_vectors = np.linalg.eig(cov_matrix)\n",
    "\n",
    "    # Sort the eigenvectors by decreasing eigenvalues\n",
    "    sorted_index = np.argsort(eigen_values)[::-1]\n",
    "    sorted_eigenvalue = eigen_values[sorted_index]\n",
    "    sorted_eigenvectors = eigen_vectors[:, sorted_index]\n",
    "\n",
    "    # Transform the data\n",
    "    return np.dot(standardized_data, sorted_eigenvectors)"
   ]
  },
  {
   "cell_type": "code",
   "execution_count": 12,
   "id": "087af943-ff51-4acc-ac8d-f26bed3f2709",
   "metadata": {},
   "outputs": [
    {
     "data": {
      "text/plain": [
       "array([[-1.9696394 , -1.65063904, -1.87541839],\n",
       "       [-2.91693638,  1.22946163, -2.43144103],\n",
       "       [-2.03915914, -1.31177987, -1.900452  ],\n",
       "       ...,\n",
       "       [ 0.44257417,  0.32261813,  0.69176589],\n",
       "       [ 0.48844124, -0.45431233,  0.63983046],\n",
       "       [ 0.49545826, -0.47564641,  0.64394915]])"
      ]
     },
     "execution_count": 12,
     "metadata": {},
     "output_type": "execute_result"
    }
   ],
   "source": [
    "foo = principal_component_analysis(titles_df,[\"isAdult\",'runtimeMinutes', \"startYear\"])\n",
    "foo"
   ]
  },
  {
   "cell_type": "code",
   "execution_count": 13,
   "id": "d80ab413-da96-46eb-b6bf-2cf30d962a61",
   "metadata": {},
   "outputs": [],
   "source": [
    "\"\"\"\n",
    "Least Squares, not necessary, delete later\n",
    "\"\"\"\n",
    "def least_squares_method(dataframe, key1, key2):\n",
    "    col1 , col2 = dataframe[key1], dataframe[key2]\n",
    "    mean_x, mean_y = np.mean(col1), np.mean(col2)\n",
    "    numer, den = 0, 0\n",
    "    \n",
    "    for i in range(len(dataframe[key1])):\n",
    "        numer += (col1.iloc[i] - mean_x) * (col2.iloc[i] - mean_y)\n",
    "        den += (col1.iloc[i] - mean_x) ** 2\n",
    "\n",
    "    if den == 0:\n",
    "        raise ValueError(\"Denominator is 0.\")\n",
    "        \n",
    "    m = numer / den\n",
    "    c = mean_y - (m * mean_x)\n",
    "\n",
    "    return m,c\n",
    " "
   ]
  },
  {
   "cell_type": "code",
   "execution_count": 14,
   "id": "e799f664",
   "metadata": {},
   "outputs": [
    {
     "data": {
      "text/plain": [
       "(-0.032163363095012505, 105.64748711787104)"
      ]
     },
     "execution_count": 14,
     "metadata": {},
     "output_type": "execute_result"
    }
   ],
   "source": [
    "zoo = least_squares_method(titles_df, \"startYear\", \"runtimeMinutes\")\n",
    "zoo"
   ]
  },
  {
   "cell_type": "code",
   "execution_count": 15,
   "id": "29122d34-a645-4268-b781-c55742c6b7ae",
   "metadata": {},
   "outputs": [
    {
     "data": {
      "text/plain": [
       "Index(['tconst', 'titleType', 'primaryTitle', 'originalTitle', 'isAdult',\n",
       "       'startYear', 'endYear', 'runtimeMinutes', 'genres'],\n",
       "      dtype='object')"
      ]
     },
     "execution_count": 15,
     "metadata": {},
     "output_type": "execute_result"
    }
   ],
   "source": [
    "titles_df.columns"
   ]
  },
  {
   "cell_type": "code",
   "execution_count": 16,
   "id": "2276149d-4a36-4229-9cea-f4ba4a0f6c1b",
   "metadata": {},
   "outputs": [],
   "source": [
    "def least_squares_classification(dataframe, key1, key2, num_classes):\n",
    "    col1, col2 = dataframe[key1], dataframe[key2]\n",
    "\n",
    "    # Initialize arrays for coefficients and intercepts\n",
    "    coefficients = np.zeros((num_classes, 1))  # Each class has a single coefficient\n",
    "    intercepts = np.zeros(num_classes)\n",
    "\n",
    "    for class_label in range(num_classes):\n",
    "        class_indicator = (dataframe['titleType'] == class_label).astype(int)\n",
    "\n",
    "        # Compute coefficients and intercept for the current class\n",
    "        mean_x, mean_y = np.mean(col1), np.mean(col2)\n",
    "        numer, den = 0, 0\n",
    "\n",
    "        for i in range(len(dataframe[key1])):\n",
    "            numer += (col1.iloc[i] - mean_x) * (class_indicator.iloc[i] - mean_y)\n",
    "            den += (col1.iloc[i] - mean_x) ** 2\n",
    "\n",
    "        if den == 0:\n",
    "            raise ValueError(\"Denominator is 0.\")\n",
    "\n",
    "        coefficients[class_label, 0] = numer / den\n",
    "        intercepts[class_label] = mean_y - (coefficients[class_label, 0] * mean_x)\n",
    "        print(coefficients, 'and', intercepts)\n",
    "\n",
    "    # Apply least squares lines to the data for each class\n",
    "    predictions = np.dot(coefficients, col1.values.reshape(1, -1)) + intercepts.reshape(-1, 1)\n",
    "\n",
    "    # Determine the predicted class for each data point\n",
    "    predicted_labels = np.argmax(predictions, axis=0)\n",
    "\n",
    "    return predicted_labels\n",
    "\n"
   ]
  },
  {
   "cell_type": "code",
   "execution_count": 17,
   "id": "d247ce49-1e74-49ea-9d6e-96ff740785c6",
   "metadata": {},
   "outputs": [
    {
     "data": {
      "text/plain": [
       "6"
      ]
     },
     "execution_count": 17,
     "metadata": {},
     "output_type": "execute_result"
    }
   ],
   "source": [
    "num_classes = titles_df['titleType'].nunique()\n",
    "num_classes"
   ]
  },
  {
   "cell_type": "code",
   "execution_count": 18,
   "id": "4a077a02-5828-4011-9268-9536d6fd8343",
   "metadata": {},
   "outputs": [
    {
     "name": "stdout",
     "output_type": "stream",
     "text": [
      "[[1.69141787e-12]\n",
      " [0.00000000e+00]\n",
      " [0.00000000e+00]\n",
      " [0.00000000e+00]\n",
      " [0.00000000e+00]\n",
      " [0.00000000e+00]] and [2003.13579799    0.            0.            0.            0.\n",
      "    0.        ]\n",
      "[[1.69141787e-12]\n",
      " [1.69141787e-12]\n",
      " [0.00000000e+00]\n",
      " [0.00000000e+00]\n",
      " [0.00000000e+00]\n",
      " [0.00000000e+00]] and [2003.13579799 2003.13579799    0.            0.            0.\n",
      "    0.        ]\n",
      "[[1.69141787e-12]\n",
      " [1.69141787e-12]\n",
      " [1.69141787e-12]\n",
      " [0.00000000e+00]\n",
      " [0.00000000e+00]\n",
      " [0.00000000e+00]] and [2003.13579799 2003.13579799 2003.13579799    0.            0.\n",
      "    0.        ]\n",
      "[[1.69141787e-12]\n",
      " [1.69141787e-12]\n",
      " [1.69141787e-12]\n",
      " [1.69141787e-12]\n",
      " [0.00000000e+00]\n",
      " [0.00000000e+00]] and [2003.13579799 2003.13579799 2003.13579799 2003.13579799    0.\n",
      "    0.        ]\n",
      "[[1.69141787e-12]\n",
      " [1.69141787e-12]\n",
      " [1.69141787e-12]\n",
      " [1.69141787e-12]\n",
      " [1.69141787e-12]\n",
      " [0.00000000e+00]] and [2003.13579799 2003.13579799 2003.13579799 2003.13579799 2003.13579799\n",
      "    0.        ]\n",
      "[[1.69141787e-12]\n",
      " [1.69141787e-12]\n",
      " [1.69141787e-12]\n",
      " [1.69141787e-12]\n",
      " [1.69141787e-12]\n",
      " [1.69141787e-12]] and [2003.13579799 2003.13579799 2003.13579799 2003.13579799 2003.13579799\n",
      " 2003.13579799]\n"
     ]
    }
   ],
   "source": [
    "predicted_labels = least_squares_classification(titles_df, \"runtimeMinutes\", \"startYear\", num_classes)"
   ]
  },
  {
   "cell_type": "code",
   "execution_count": 19,
   "id": "04dae54e-1bea-456d-826a-9ae65cd1e892",
   "metadata": {},
   "outputs": [],
   "source": [
    "import numpy as np\n",
    "\n",
    "def least_squares_classification(dataframe, key1, key2, class_key):\n",
    "    col1, col2, class_labels = dataframe[key1], dataframe[key2], dataframe[class_key]\n",
    "    \n",
    "    # Get unique class labels\n",
    "    classes = np.unique(class_labels)\n",
    "    \n",
    "    # Initialize matrices for the least squares problem\n",
    "    A = np.ones((len(dataframe), 1))  # Bias term\n",
    "    A = np.hstack((A, col1.values.reshape(-1, 1), col2.values.reshape(-1, 1)))  # Append input features\n",
    "    B = np.zeros((len(dataframe), len(classes)))\n",
    "\n",
    "    for i, c in enumerate(classes):\n",
    "        # Set 1 for rows where the class is c, 0 otherwise\n",
    "        B[:, i] = (class_labels == c).astype(int)\n",
    "\n",
    "    # Solve the least squares problem\n",
    "    coefficients, residuals, _, _ = np.linalg.lstsq(A, B, rcond=None)\n",
    "\n",
    "    return coefficients[1:], coefficients[0]\n"
   ]
  },
  {
   "cell_type": "code",
   "execution_count": 20,
   "id": "a5c5ce88-c929-40c4-81d2-f6a51c3f5ded",
   "metadata": {},
   "outputs": [
    {
     "name": "stdout",
     "output_type": "stream",
     "text": [
      "Coefficients (m): [[-1.46402385e-03  2.40522848e-04  8.43632900e-04  1.59890667e-04\n",
      "  -7.56694941e-05  2.95646926e-04]\n",
      " [ 1.12259367e-01 -5.58207637e-03 -4.43977857e-02 -4.74202710e-02\n",
      "  -5.72268670e-03 -9.13654701e-03]]\n",
      "Intercept (c): [9.23830305e-01 8.38401308e-05 2.03233324e-02 4.72421326e-02\n",
      " 8.10462864e-03 4.15760799e-04]\n"
     ]
    }
   ],
   "source": [
    "\n",
    "m, c = least_squares_classification(titles_df, 'runtimeMinutes', 'isAdult', 'titleType')\n",
    "print(\"Coefficients (m):\", m)\n",
    "print(\"Intercept (c):\", c)\n"
   ]
  },
  {
   "cell_type": "code",
   "execution_count": 21,
   "id": "ecd38b47-bce7-4270-87d0-a443c297a94b",
   "metadata": {},
   "outputs": [
    {
     "name": "stdout",
     "output_type": "stream",
     "text": [
      "Predicted labels:\n",
      "          titleType  predicted_labels\n",
      "37600      tvSeries                 0\n",
      "38056       tvMovie                 0\n",
      "38434      tvSeries                 0\n",
      "38435      tvSeries                 0\n",
      "38436      tvSeries                 0\n",
      "...             ...               ...\n",
      "10408643  tvEpisode                 0\n",
      "10408644    tvMovie                 0\n",
      "10408677  tvEpisode                 0\n",
      "10408712  tvEpisode                 0\n",
      "10408720  tvEpisode                 0\n",
      "\n",
      "[1713641 rows x 2 columns]\n"
     ]
    }
   ],
   "source": [
    "# Add the predicted labels to the dataframe\n",
    "titles_df['predicted_labels'] = predicted_labels\n",
    "\n",
    "# Display the results\n",
    "print(\"Predicted labels:\")\n",
    "print(titles_df[['titleType', 'predicted_labels']])"
   ]
  },
  {
   "cell_type": "code",
   "execution_count": 22,
   "id": "26215a2c-f8f9-4658-8a8d-bb3b07234b6a",
   "metadata": {},
   "outputs": [
    {
     "name": "stdout",
     "output_type": "stream",
     "text": [
      "Number of 0s in Predicted Labels: 1713641\n"
     ]
    }
   ],
   "source": [
    "num_zeros = np.count_nonzero(predicted_labels == 0.0)\n",
    "print(\"Number of 0s in Predicted Labels:\", num_zeros)"
   ]
  },
  {
   "cell_type": "code",
   "execution_count": 23,
   "id": "88d22751-57b6-4bf0-8558-f8144dbe6800",
   "metadata": {},
   "outputs": [
    {
     "data": {
      "text/plain": [
       "array([-3.21633631e-02,  1.05647487e+02])"
      ]
     },
     "execution_count": 23,
     "metadata": {},
     "output_type": "execute_result"
    }
   ],
   "source": [
    "\"\"\"\n",
    "Compare with pre-built implementation\n",
    "\"\"\"\n",
    "start_year = titles_df[\"startYear\"]\n",
    "minutes = titles_df[\"runtimeMinutes\"]\n",
    "\n",
    "A = np.vstack([start_year, np.ones(len(start_year))]).T\n",
    "\n",
    "\n",
    "zoo2 = np.linalg.lstsq( A, minutes, rcond=None)\n",
    "zoo2[0]"
   ]
  },
  {
   "cell_type": "markdown",
   "id": "3888f0b8-49eb-45c1-836d-81926579fbdb",
   "metadata": {},
   "source": [
    "# Logistic Regression"
   ]
  },
  {
   "cell_type": "code",
   "execution_count": 12,
   "id": "2fe22fe4-4e0f-4e26-bb77-ec236bab2db5",
   "metadata": {},
   "outputs": [],
   "source": [
    "titles_df['genres'] = titles_df['genres'].fillna('')\n",
    "multiple_genres_mask = titles_df['genres'].str.contains(',')\n",
    "titles_df.loc[multiple_genres_mask, 'genres'] = titles_df[multiple_genres_mask]['genres'].apply(lambda x: np.random.choice(x.split(',')))\n",
    "titles_df = titles_df.rename(columns={'genres': 'genre'}) "
   ]
  },
  {
   "cell_type": "code",
   "execution_count": 13,
   "id": "e777a659-b302-4925-b395-28dbd03d4a84",
   "metadata": {},
   "outputs": [],
   "source": [
    "titleType_map = {title: idx for idx, title in enumerate(titles_df['titleType'].unique())}\n",
    "titles_df['titleType_encoded'] = titles_df['titleType'].map(titleType_map)\n",
    "genre_map = {title: idx for idx, title in enumerate(titles_df['genre'].unique())}\n",
    "titles_df['genre_encoded'] = titles_df['genre'].map(genre_map)"
   ]
  },
  {
   "cell_type": "code",
   "execution_count": 14,
   "id": "d0955188-7319-4b29-8091-6d235fadf7be",
   "metadata": {},
   "outputs": [],
   "source": [
    "X= titles_df[[\"runtimeMinutes\",\"titleType_encoded\", \"genre_encoded\"]].to_numpy()\n",
    "y=titles_df[\"startYear\"].to_numpy()"
   ]
  },
  {
   "cell_type": "code",
   "execution_count": 15,
   "id": "ece30233-144a-486a-9a0f-282e483cef46",
   "metadata": {},
   "outputs": [
    {
     "data": {
      "text/plain": [
       "array([[  1.,  15.,   0.,   0.],\n",
       "       [  1., 150.,   1.,   1.],\n",
       "       [  1.,  30.,   0.,   2.],\n",
       "       [  1.,  30.,   0.,   3.],\n",
       "       [  1.,  30.,   0.,   4.]])"
      ]
     },
     "execution_count": 15,
     "metadata": {},
     "output_type": "execute_result"
    }
   ],
   "source": [
    "X = np.hstack( [ np.ones( ( X.shape[0],1) ), X ]  )\n",
    "X[:5]"
   ]
  },
  {
   "cell_type": "code",
   "execution_count": 16,
   "id": "a46fc223-1b57-4f5b-a195-24a935b91905",
   "metadata": {},
   "outputs": [
    {
     "name": "stdout",
     "output_type": "stream",
     "text": [
      "X_train shape: (1370913, 4)\n",
      "X_test shape: (342728, 4)\n",
      "y_train shape: (1370913,)\n",
      "y_test shape: (342728,)\n"
     ]
    }
   ],
   "source": [
    "# Shuffle data to avoid biases\n",
    "np.random.seed(42)\n",
    "indices = np.arange(len(X))\n",
    "np.random.shuffle(indices)\n",
    "\n",
    "# Calculate the number of samples for testing\n",
    "num_test_samples = int(0.2 * len(X))\n",
    "\n",
    "# Split the data into training and testing sets\n",
    "X_train = X[indices[:-num_test_samples]]\n",
    "y_train = y[indices[:-num_test_samples]]\n",
    "\n",
    "X_test = X[indices[-num_test_samples:]]\n",
    "y_test = y[indices[-num_test_samples:]]\n",
    "\n",
    "print(\"X_train shape:\", X_train.shape)\n",
    "print(\"X_test shape:\", X_test.shape)\n",
    "print(\"y_train shape:\", y_train.shape)\n",
    "print(\"y_test shape:\", y_test.shape)"
   ]
  },
  {
   "cell_type": "code",
   "execution_count": 17,
   "id": "bbf5d4fd-9a5b-4c0f-9a35-363932410060",
   "metadata": {},
   "outputs": [],
   "source": [
    "m, n = X.shape\n",
    "mu = np.zeros( (X_train.shape[1], 1) )\n",
    "stdu = np.zeros( (X_train.shape[1], 1) )\n",
    "for j in range(1,n):\n",
    "    mu[j] = X[:,j].mean()\n",
    "    stdu[j] = X[:,j].std()\n",
    "\n",
    "stdu[0] = 1"
   ]
  },
  {
   "cell_type": "code",
   "execution_count": 19,
   "id": "2e7df501-b21e-4401-be11-96aedf47670f",
   "metadata": {},
   "outputs": [
    {
     "data": {
      "text/plain": [
       "array([[ 0.        ],\n",
       "       [41.21990312],\n",
       "       [ 1.90244981],\n",
       "       [ 9.20298125]])"
      ]
     },
     "execution_count": 19,
     "metadata": {},
     "output_type": "execute_result"
    }
   ],
   "source": [
    "mu"
   ]
  },
  {
   "cell_type": "code",
   "execution_count": 20,
   "id": "93035e23-48a3-4cb2-9736-cc555b5547db",
   "metadata": {},
   "outputs": [
    {
     "data": {
      "text/plain": [
       "array([[ 1.        ],\n",
       "       [43.79629711],\n",
       "       [ 0.64071699],\n",
       "       [ 7.73963806]])"
      ]
     },
     "execution_count": 20,
     "metadata": {},
     "output_type": "execute_result"
    }
   ],
   "source": [
    "stdu"
   ]
  },
  {
   "cell_type": "code",
   "execution_count": 21,
   "id": "438f2c8f-1249-4ccd-a7b1-eea4b94b194a",
   "metadata": {},
   "outputs": [],
   "source": [
    "for j in range(1,n):\n",
    "    X_train[:, j] = (X_train[:, j] - mu[j] ) / stdu[j]"
   ]
  },
  {
   "cell_type": "code",
   "execution_count": 22,
   "id": "f7783783-f2ea-4fb1-8bcc-ed261784ad66",
   "metadata": {},
   "outputs": [],
   "source": [
    "for j in range(1,n):\n",
    "    X_test[:, j] = (X_test[:, j] - mu[j] ) / stdu[j]"
   ]
  },
  {
   "cell_type": "code",
   "execution_count": 30,
   "id": "bba26ce6-4324-498a-8ca6-81f016500d54",
   "metadata": {},
   "outputs": [],
   "source": [
    "def softmax(values):\n",
    "    # element wise exponential value, sum of these values\n",
    "    exp_values = np.exp(values)\n",
    "    exp_values_sum = np.sum(exp_values)\n",
    " \n",
    "    # Returing the softmax output.\n",
    "    return exp_values/exp_values_sum\n",
    "\n",
    "def cross_entropy(y_pred, y_true):\n",
    "    # computing softmax values for predicted values\n",
    "    y_pred, loss  = softmax(y_pred), 0\n",
    "     \n",
    "    # Doing cross entropy Loss\n",
    "    for i in range(len(y_pred)):\n",
    "        loss += (-1 * y_true[i] * np.log(y_pred[i]) )\n",
    " \n",
    "    return loss\n",
    "    \n",
    "def logistic_regression_sgd(X_train, y_train, X_test, y_test, learning_rate=0.01, epochs=100, shuffle=True):\n",
    "    # Add a bias term to the features\n",
    "    X_train_bias = np.c_[np.ones(X_train.shape[0]), X_train]\n",
    "    X_test_bias = np.c_[np.ones(X_test.shape[0]), X_test]\n",
    "\n",
    "    # Initialize weights with zeros\n",
    "    weights = np.zeros(X_train_bias.shape[1])\n",
    "\n",
    "    # Lists to store training and testing losses at each epoch\n",
    "    train_losses = []\n",
    "    test_losses = []\n",
    "\n",
    "    m_train = X_train_bias.shape[0]\n",
    "    m_test = X_test_bias.shape[0]\n",
    "\n",
    "    for epoch in range(epochs):\n",
    "        # Shuffle training data for each epoch\n",
    "        if shuffle:\n",
    "            indices = np.random.permutation(m_train)\n",
    "            X_train_bias = X_train_bias[indices]\n",
    "            y_train = y_train[indices]\n",
    "\n",
    "        train_loss = 0\n",
    "        test_loss = 0\n",
    "\n",
    "        for i in range(m_train):\n",
    "            # Compute the predicted probabilities\n",
    "            y_pred_train = np.dot(X_train_bias[i], weights)\n",
    "            y_pred_train_softmax = softmax(y_pred_train)\n",
    "\n",
    "            # Compute the cross-entropy loss for the training set\n",
    "            train_loss += cross_entropy(y_pred_train, y_train[i])\n",
    "\n",
    "            # Compute the gradient of the cross-entropy loss\n",
    "            gradient = np.outer(y_pred_train_softmax - y_train[i], X_train_bias[i])\n",
    "\n",
    "            # Update the weights using the gradient and learning rate\n",
    "            weights -= learning_rate * gradient.flatten()\n",
    "\n",
    "        # Compute the average training loss for the epoch\n",
    "        train_loss /= m_train\n",
    "        train_losses.append(train_loss)\n",
    "\n",
    "        # Evaluate the model on the test set\n",
    "        for i in range(m_test):\n",
    "            y_pred_test = np.dot(X_test_bias[i], weights)\n",
    "            y_pred_test_softmax = softmax(y_pred_test)\n",
    "\n",
    "            # Compute the cross-entropy loss for the test set\n",
    "            test_loss += cross_entropy(y_pred_test, y_test[i])\n",
    "\n",
    "        # Compute the average test loss for the epoch\n",
    "        test_loss /= m_test\n",
    "        test_losses.append(test_loss)\n",
    "\n",
    "    return weights, train_losses, test_losses"
   ]
  },
  {
   "cell_type": "code",
   "execution_count": 28,
   "id": "6d7e773a-9021-4037-83b4-b278c9517535",
   "metadata": {},
   "outputs": [
    {
     "data": {
      "image/png": "[encoded data removed]",
      "text/plain": [
       "<Figure size 432x288 with 1 Axes>"
      ]
     },
     "metadata": {
      "needs_background": "light"
     },
     "output_type": "display_data"
    }
   ],
   "source": [
    "import matplotlib.pyplot as plt\n",
    "\n",
    "%matplotlib inline\n",
    "x = np.arange(-10., 10., 0.2)\n",
    "plt.plot(x, softmax(x),'r')\n",
    "plt.show()"
   ]
  },
  {
   "cell_type": "code",
   "execution_count": 31,
   "id": "9c56ba6c-503c-411a-b044-1824b59c6c1d",
   "metadata": {},
   "outputs": [
    {
     "ename": "TypeError",
     "evalue": "object of type 'numpy.float64' has no len()",
     "output_type": "error",
     "traceback": [
      "\u001b[1;31m---------------------------------------------------------------------------\u001b[0m",
      "\u001b[1;31mTypeError\u001b[0m                                 Traceback (most recent call last)",
      "\u001b[1;32m<ipython-input-31-f18785866fa8>\u001b[0m in \u001b[0;36m<module>\u001b[1;34m\u001b[0m\n\u001b[1;32m----> 1\u001b[1;33m \u001b[0mweights\u001b[0m\u001b[1;33m,\u001b[0m \u001b[0mtrain_losses\u001b[0m\u001b[1;33m,\u001b[0m \u001b[0mtest_losses\u001b[0m \u001b[1;33m=\u001b[0m \u001b[0mlogistic_regression_sgd\u001b[0m\u001b[1;33m(\u001b[0m\u001b[0mX_train\u001b[0m\u001b[1;33m,\u001b[0m \u001b[0my_train\u001b[0m\u001b[1;33m,\u001b[0m \u001b[0mX_test\u001b[0m\u001b[1;33m,\u001b[0m \u001b[0my_test\u001b[0m\u001b[1;33m,\u001b[0m \u001b[0mlearning_rate\u001b[0m\u001b[1;33m=\u001b[0m\u001b[1;36m0.01\u001b[0m\u001b[1;33m,\u001b[0m \u001b[0mepochs\u001b[0m\u001b[1;33m=\u001b[0m\u001b[1;36m100\u001b[0m\u001b[1;33m,\u001b[0m \u001b[0mshuffle\u001b[0m\u001b[1;33m=\u001b[0m\u001b[1;32mTrue\u001b[0m\u001b[1;33m)\u001b[0m\u001b[1;33m\u001b[0m\u001b[1;33m\u001b[0m\u001b[0m\n\u001b[0m",
      "\u001b[1;32m<ipython-input-30-30a28b7fb95a>\u001b[0m in \u001b[0;36mlogistic_regression_sgd\u001b[1;34m(X_train, y_train, X_test, y_test, learning_rate, epochs, shuffle)\u001b[0m\n\u001b[0;32m     52\u001b[0m \u001b[1;33m\u001b[0m\u001b[0m\n\u001b[0;32m     53\u001b[0m             \u001b[1;31m# Compute the cross-entropy loss for the training set\u001b[0m\u001b[1;33m\u001b[0m\u001b[1;33m\u001b[0m\u001b[1;33m\u001b[0m\u001b[0m\n\u001b[1;32m---> 54\u001b[1;33m             \u001b[0mtrain_loss\u001b[0m \u001b[1;33m+=\u001b[0m \u001b[0mcross_entropy\u001b[0m\u001b[1;33m(\u001b[0m\u001b[0my_pred_train\u001b[0m\u001b[1;33m,\u001b[0m \u001b[0my_train\u001b[0m\u001b[1;33m[\u001b[0m\u001b[0mi\u001b[0m\u001b[1;33m]\u001b[0m\u001b[1;33m)\u001b[0m\u001b[1;33m\u001b[0m\u001b[1;33m\u001b[0m\u001b[0m\n\u001b[0m\u001b[0;32m     55\u001b[0m \u001b[1;33m\u001b[0m\u001b[0m\n\u001b[0;32m     56\u001b[0m             \u001b[1;31m# Compute the gradient of the cross-entropy loss\u001b[0m\u001b[1;33m\u001b[0m\u001b[1;33m\u001b[0m\u001b[1;33m\u001b[0m\u001b[0m\n",
      "\u001b[1;32m<ipython-input-30-30a28b7fb95a>\u001b[0m in \u001b[0;36mcross_entropy\u001b[1;34m(y_pred, y_true)\u001b[0m\n\u001b[0;32m     16\u001b[0m \u001b[1;33m\u001b[0m\u001b[0m\n\u001b[0;32m     17\u001b[0m     \u001b[1;31m# Doing cross-entropy Loss\u001b[0m\u001b[1;33m\u001b[0m\u001b[1;33m\u001b[0m\u001b[1;33m\u001b[0m\u001b[0m\n\u001b[1;32m---> 18\u001b[1;33m     \u001b[1;32mfor\u001b[0m \u001b[0mi\u001b[0m \u001b[1;32min\u001b[0m \u001b[0mrange\u001b[0m\u001b[1;33m(\u001b[0m\u001b[0mlen\u001b[0m\u001b[1;33m(\u001b[0m\u001b[0my_pred\u001b[0m\u001b[1;33m)\u001b[0m\u001b[1;33m)\u001b[0m\u001b[1;33m:\u001b[0m\u001b[1;33m\u001b[0m\u001b[1;33m\u001b[0m\u001b[0m\n\u001b[0m\u001b[0;32m     19\u001b[0m         \u001b[0mloss\u001b[0m \u001b[1;33m+=\u001b[0m \u001b[1;33m(\u001b[0m\u001b[1;33m-\u001b[0m\u001b[1;36m1\u001b[0m \u001b[1;33m*\u001b[0m \u001b[0my_true\u001b[0m\u001b[1;33m[\u001b[0m\u001b[0mi\u001b[0m\u001b[1;33m]\u001b[0m \u001b[1;33m*\u001b[0m \u001b[0mnp\u001b[0m\u001b[1;33m.\u001b[0m\u001b[0mlog\u001b[0m\u001b[1;33m(\u001b[0m\u001b[0my_pred\u001b[0m\u001b[1;33m[\u001b[0m\u001b[0mi\u001b[0m\u001b[1;33m]\u001b[0m\u001b[1;33m)\u001b[0m\u001b[1;33m)\u001b[0m\u001b[1;33m\u001b[0m\u001b[1;33m\u001b[0m\u001b[0m\n\u001b[0;32m     20\u001b[0m \u001b[1;33m\u001b[0m\u001b[0m\n",
      "\u001b[1;31mTypeError\u001b[0m: object of type 'numpy.float64' has no len()"
     ]
    }
   ],
   "source": [
    "weights, train_losses, test_losses = logistic_regression_sgd(X_train, y_train, X_test, y_test, learning_rate=0.01, epochs=100, shuffle=True)"
   ]
  },
  {
   "cell_type": "code",
   "execution_count": null,
   "id": "965b00d2-d127-4c12-acc1-88fa45210f92",
   "metadata": {},
   "outputs": [],
   "source": []
  }
 ],
 "metadata": {
  "kernelspec": {
   "display_name": "Python 3",
   "language": "python",
   "name": "python3"
  },
  "language_info": {
   "codemirror_mode": {
    "name": "ipython",
    "version": 3
   },
   "file_extension": ".py",
   "mimetype": "text/x-python",
   "name": "python",
   "nbconvert_exporter": "python",
   "pygments_lexer": "ipython3",
   "version": "3.8.5"
  }
 },
 "nbformat": 4,
 "nbformat_minor": 5
}
