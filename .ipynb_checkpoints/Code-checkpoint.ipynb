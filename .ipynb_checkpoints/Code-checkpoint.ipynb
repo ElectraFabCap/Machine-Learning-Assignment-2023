{
 "cells": [
  {
   "cell_type": "code",
   "execution_count": 1,
   "id": "c0e0fdb2",
   "metadata": {
    "deletable": true,
    "editable": true
   },
   "outputs": [],
   "source": [
    "import pandas as pd\n",
    "import csv\n",
    "import numpy as np\n",
    "from sklearn.naive_bayes import GaussianNB\n",
    "from sklearn.model_selection import train_test_split"
   ]
  },
  {
   "cell_type": "code",
   "execution_count": 2,
   "id": "f8dd37a1",
   "metadata": {
    "collapsed": false,
    "deletable": true,
    "editable": true,
    "jupyter": {
     "outputs_hidden": false
    }
   },
   "outputs": [],
   "source": [
    "column_types = {\n",
    "    'isAdult': float,\n",
    "    'startYear': float,\n",
    "    'endYear': float,\n",
    "    'runtimeMinutes': float,\n",
    "    'tconst': str,\n",
    "    'titleType': str,\n",
    "    'primaryTitle': str,\n",
    "    'originalTitle': str,\n",
    "    'genres': str\n",
    "}\n",
    "\n",
    "titles_df = pd.read_csv(\"data.tsv\", \n",
    "                        dtype=column_types,\n",
    "                        na_values=r'\\N',\n",
    "                        sep=\"\\t\",\n",
    "                        quoting=csv.QUOTE_NONE)\n",
    "\n",
    "titles_df = titles_df.dropna(subset=['isAdult','runtimeMinutes','startYear'])"
   ]
  },
  {
   "cell_type": "code",
   "execution_count": 3,
   "id": "7979dc93",
   "metadata": {
    "deletable": true,
    "editable": true
   },
   "outputs": [
    {
     "name": "stdout",
     "output_type": "stream",
     "text": [
      "(2949978, 9)\n"
     ]
    },
    {
     "data": {
      "text/html": [
       "<div>\n",
       "<style scoped>\n",
       "    .dataframe tbody tr th:only-of-type {\n",
       "        vertical-align: middle;\n",
       "    }\n",
       "\n",
       "    .dataframe tbody tr th {\n",
       "        vertical-align: top;\n",
       "    }\n",
       "\n",
       "    .dataframe thead th {\n",
       "        text-align: right;\n",
       "    }\n",
       "</style>\n",
       "<table border=\"1\" class=\"dataframe\">\n",
       "  <thead>\n",
       "    <tr style=\"text-align: right;\">\n",
       "      <th></th>\n",
       "      <th>tconst</th>\n",
       "      <th>titleType</th>\n",
       "      <th>primaryTitle</th>\n",
       "      <th>originalTitle</th>\n",
       "      <th>isAdult</th>\n",
       "      <th>startYear</th>\n",
       "      <th>endYear</th>\n",
       "      <th>runtimeMinutes</th>\n",
       "      <th>genres</th>\n",
       "    </tr>\n",
       "  </thead>\n",
       "  <tbody>\n",
       "    <tr>\n",
       "      <th>0</th>\n",
       "      <td>tt0000001</td>\n",
       "      <td>short</td>\n",
       "      <td>Carmencita</td>\n",
       "      <td>Carmencita</td>\n",
       "      <td>0.0</td>\n",
       "      <td>1894.0</td>\n",
       "      <td>NaN</td>\n",
       "      <td>1.0</td>\n",
       "      <td>Documentary,Short</td>\n",
       "    </tr>\n",
       "    <tr>\n",
       "      <th>1</th>\n",
       "      <td>tt0000002</td>\n",
       "      <td>short</td>\n",
       "      <td>Le clown et ses chiens</td>\n",
       "      <td>Le clown et ses chiens</td>\n",
       "      <td>0.0</td>\n",
       "      <td>1892.0</td>\n",
       "      <td>NaN</td>\n",
       "      <td>5.0</td>\n",
       "      <td>Animation,Short</td>\n",
       "    </tr>\n",
       "    <tr>\n",
       "      <th>2</th>\n",
       "      <td>tt0000003</td>\n",
       "      <td>short</td>\n",
       "      <td>Pauvre Pierrot</td>\n",
       "      <td>Pauvre Pierrot</td>\n",
       "      <td>0.0</td>\n",
       "      <td>1892.0</td>\n",
       "      <td>NaN</td>\n",
       "      <td>4.0</td>\n",
       "      <td>Animation,Comedy,Romance</td>\n",
       "    </tr>\n",
       "    <tr>\n",
       "      <th>3</th>\n",
       "      <td>tt0000004</td>\n",
       "      <td>short</td>\n",
       "      <td>Un bon bock</td>\n",
       "      <td>Un bon bock</td>\n",
       "      <td>0.0</td>\n",
       "      <td>1892.0</td>\n",
       "      <td>NaN</td>\n",
       "      <td>12.0</td>\n",
       "      <td>Animation,Short</td>\n",
       "    </tr>\n",
       "    <tr>\n",
       "      <th>4</th>\n",
       "      <td>tt0000005</td>\n",
       "      <td>short</td>\n",
       "      <td>Blacksmith Scene</td>\n",
       "      <td>Blacksmith Scene</td>\n",
       "      <td>0.0</td>\n",
       "      <td>1893.0</td>\n",
       "      <td>NaN</td>\n",
       "      <td>1.0</td>\n",
       "      <td>Comedy,Short</td>\n",
       "    </tr>\n",
       "  </tbody>\n",
       "</table>\n",
       "</div>"
      ],
      "text/plain": [
       "      tconst titleType            primaryTitle           originalTitle  \\\n",
       "0  tt0000001     short              Carmencita              Carmencita   \n",
       "1  tt0000002     short  Le clown et ses chiens  Le clown et ses chiens   \n",
       "2  tt0000003     short          Pauvre Pierrot          Pauvre Pierrot   \n",
       "3  tt0000004     short             Un bon bock             Un bon bock   \n",
       "4  tt0000005     short        Blacksmith Scene        Blacksmith Scene   \n",
       "\n",
       "   isAdult  startYear  endYear  runtimeMinutes                    genres  \n",
       "0      0.0     1894.0      NaN             1.0         Documentary,Short  \n",
       "1      0.0     1892.0      NaN             5.0           Animation,Short  \n",
       "2      0.0     1892.0      NaN             4.0  Animation,Comedy,Romance  \n",
       "3      0.0     1892.0      NaN            12.0           Animation,Short  \n",
       "4      0.0     1893.0      NaN             1.0              Comedy,Short  "
      ]
     },
     "execution_count": 3,
     "metadata": {},
     "output_type": "execute_result"
    }
   ],
   "source": [
    "print(titles_df.shape)\n",
    "titles_df.head()"
   ]
  },
  {
   "cell_type": "code",
   "execution_count": 4,
   "id": "7dc22964",
   "metadata": {
    "deletable": true,
    "editable": true
   },
   "outputs": [
    {
     "data": {
      "text/plain": [
       "array(['short', 'movie', 'tvShort', 'tvMovie', 'tvSeries', 'tvEpisode',\n",
       "       'tvMiniSeries', 'video', 'tvSpecial', 'videoGame'], dtype=object)"
      ]
     },
     "execution_count": 4,
     "metadata": {},
     "output_type": "execute_result"
    }
   ],
   "source": [
    "titles_df['titleType'].unique()"
   ]
  },
  {
   "cell_type": "code",
   "execution_count": 5,
   "id": "37dd2754",
   "metadata": {
    "deletable": true,
    "editable": true
   },
   "outputs": [],
   "source": [
    "tv_types = [\n",
    "    'tvMovie',\n",
    "    'tvSeries',\n",
    "    'tvEpisode',\n",
    "    'tvShort',\n",
    "    'tvMiniSeries',\n",
    "    'tvSpecial'\n",
    "]\n",
    "titles_df = titles_df.loc[titles_df['titleType'].isin(tv_types)]"
   ]
  },
  {
   "cell_type": "code",
   "execution_count": 6,
   "id": "fa584c3a",
   "metadata": {
    "deletable": true,
    "editable": true
   },
   "outputs": [
    {
     "data": {
      "text/html": [
       "<div>\n",
       "<style scoped>\n",
       "    .dataframe tbody tr th:only-of-type {\n",
       "        vertical-align: middle;\n",
       "    }\n",
       "\n",
       "    .dataframe tbody tr th {\n",
       "        vertical-align: top;\n",
       "    }\n",
       "\n",
       "    .dataframe thead th {\n",
       "        text-align: right;\n",
       "    }\n",
       "</style>\n",
       "<table border=\"1\" class=\"dataframe\">\n",
       "  <thead>\n",
       "    <tr style=\"text-align: right;\">\n",
       "      <th></th>\n",
       "      <th>tconst</th>\n",
       "      <th>titleType</th>\n",
       "      <th>primaryTitle</th>\n",
       "      <th>originalTitle</th>\n",
       "      <th>isAdult</th>\n",
       "      <th>startYear</th>\n",
       "      <th>endYear</th>\n",
       "      <th>runtimeMinutes</th>\n",
       "      <th>genres</th>\n",
       "    </tr>\n",
       "  </thead>\n",
       "  <tbody>\n",
       "    <tr>\n",
       "      <th>28755</th>\n",
       "      <td>tt0029270</td>\n",
       "      <td>tvShort</td>\n",
       "      <td>Much Ado About Nothing</td>\n",
       "      <td>Much Ado About Nothing</td>\n",
       "      <td>0.0</td>\n",
       "      <td>1937.0</td>\n",
       "      <td>NaN</td>\n",
       "      <td>10.0</td>\n",
       "      <td>Comedy,Romance,Short</td>\n",
       "    </tr>\n",
       "    <tr>\n",
       "      <th>29765</th>\n",
       "      <td>tt0030298</td>\n",
       "      <td>tvMovie</td>\n",
       "      <td>Julius Caesar</td>\n",
       "      <td>Julius Caesar</td>\n",
       "      <td>0.0</td>\n",
       "      <td>1938.0</td>\n",
       "      <td>NaN</td>\n",
       "      <td>101.0</td>\n",
       "      <td>Drama,History</td>\n",
       "    </tr>\n",
       "    <tr>\n",
       "      <th>34971</th>\n",
       "      <td>tt0035599</td>\n",
       "      <td>tvSeries</td>\n",
       "      <td>Voice of Firestone Televues</td>\n",
       "      <td>Voice of Firestone Televues</td>\n",
       "      <td>0.0</td>\n",
       "      <td>1943.0</td>\n",
       "      <td>1947.0</td>\n",
       "      <td>15.0</td>\n",
       "      <td>NaN</td>\n",
       "    </tr>\n",
       "    <tr>\n",
       "      <th>37600</th>\n",
       "      <td>tt0038276</td>\n",
       "      <td>tvSeries</td>\n",
       "      <td>You Are an Artist</td>\n",
       "      <td>You Are an Artist</td>\n",
       "      <td>0.0</td>\n",
       "      <td>1946.0</td>\n",
       "      <td>1955.0</td>\n",
       "      <td>15.0</td>\n",
       "      <td>Talk-Show</td>\n",
       "    </tr>\n",
       "    <tr>\n",
       "      <th>38056</th>\n",
       "      <td>tt0038738</td>\n",
       "      <td>tvMovie</td>\n",
       "      <td>A Midsummer Night's Dream</td>\n",
       "      <td>A Midsummer Night's Dream</td>\n",
       "      <td>0.0</td>\n",
       "      <td>1946.0</td>\n",
       "      <td>NaN</td>\n",
       "      <td>150.0</td>\n",
       "      <td>Drama,Fantasy</td>\n",
       "    </tr>\n",
       "    <tr>\n",
       "      <th>...</th>\n",
       "      <td>...</td>\n",
       "      <td>...</td>\n",
       "      <td>...</td>\n",
       "      <td>...</td>\n",
       "      <td>...</td>\n",
       "      <td>...</td>\n",
       "      <td>...</td>\n",
       "      <td>...</td>\n",
       "      <td>...</td>\n",
       "    </tr>\n",
       "    <tr>\n",
       "      <th>10408643</th>\n",
       "      <td>tt9916690</td>\n",
       "      <td>tvEpisode</td>\n",
       "      <td>Horrid Henry Delivers the Milk</td>\n",
       "      <td>Horrid Henry Delivers the Milk</td>\n",
       "      <td>0.0</td>\n",
       "      <td>2012.0</td>\n",
       "      <td>NaN</td>\n",
       "      <td>10.0</td>\n",
       "      <td>Adventure,Animation,Comedy</td>\n",
       "    </tr>\n",
       "    <tr>\n",
       "      <th>10408644</th>\n",
       "      <td>tt9916692</td>\n",
       "      <td>tvMovie</td>\n",
       "      <td>Teatroteka: Czlowiek bez twarzy</td>\n",
       "      <td>Teatroteka: Czlowiek bez twarzy</td>\n",
       "      <td>0.0</td>\n",
       "      <td>2015.0</td>\n",
       "      <td>NaN</td>\n",
       "      <td>66.0</td>\n",
       "      <td>Drama</td>\n",
       "    </tr>\n",
       "    <tr>\n",
       "      <th>10408677</th>\n",
       "      <td>tt9916766</td>\n",
       "      <td>tvEpisode</td>\n",
       "      <td>Episode #10.15</td>\n",
       "      <td>Episode #10.15</td>\n",
       "      <td>0.0</td>\n",
       "      <td>2019.0</td>\n",
       "      <td>NaN</td>\n",
       "      <td>43.0</td>\n",
       "      <td>Family,Game-Show,Reality-TV</td>\n",
       "    </tr>\n",
       "    <tr>\n",
       "      <th>10408712</th>\n",
       "      <td>tt9916840</td>\n",
       "      <td>tvEpisode</td>\n",
       "      <td>Horrid Henry's Comic Caper</td>\n",
       "      <td>Horrid Henry's Comic Caper</td>\n",
       "      <td>0.0</td>\n",
       "      <td>2014.0</td>\n",
       "      <td>NaN</td>\n",
       "      <td>11.0</td>\n",
       "      <td>Adventure,Animation,Comedy</td>\n",
       "    </tr>\n",
       "    <tr>\n",
       "      <th>10408720</th>\n",
       "      <td>tt9916880</td>\n",
       "      <td>tvEpisode</td>\n",
       "      <td>Horrid Henry Knows It All</td>\n",
       "      <td>Horrid Henry Knows It All</td>\n",
       "      <td>0.0</td>\n",
       "      <td>2014.0</td>\n",
       "      <td>NaN</td>\n",
       "      <td>10.0</td>\n",
       "      <td>Adventure,Animation,Comedy</td>\n",
       "    </tr>\n",
       "  </tbody>\n",
       "</table>\n",
       "<p>1714219 rows × 9 columns</p>\n",
       "</div>"
      ],
      "text/plain": [
       "             tconst  titleType                     primaryTitle  \\\n",
       "28755     tt0029270    tvShort           Much Ado About Nothing   \n",
       "29765     tt0030298    tvMovie                    Julius Caesar   \n",
       "34971     tt0035599   tvSeries      Voice of Firestone Televues   \n",
       "37600     tt0038276   tvSeries                You Are an Artist   \n",
       "38056     tt0038738    tvMovie        A Midsummer Night's Dream   \n",
       "...             ...        ...                              ...   \n",
       "10408643  tt9916690  tvEpisode   Horrid Henry Delivers the Milk   \n",
       "10408644  tt9916692    tvMovie  Teatroteka: Czlowiek bez twarzy   \n",
       "10408677  tt9916766  tvEpisode                   Episode #10.15   \n",
       "10408712  tt9916840  tvEpisode       Horrid Henry's Comic Caper   \n",
       "10408720  tt9916880  tvEpisode        Horrid Henry Knows It All   \n",
       "\n",
       "                            originalTitle  isAdult  startYear  endYear  \\\n",
       "28755              Much Ado About Nothing      0.0     1937.0      NaN   \n",
       "29765                       Julius Caesar      0.0     1938.0      NaN   \n",
       "34971         Voice of Firestone Televues      0.0     1943.0   1947.0   \n",
       "37600                   You Are an Artist      0.0     1946.0   1955.0   \n",
       "38056           A Midsummer Night's Dream      0.0     1946.0      NaN   \n",
       "...                                   ...      ...        ...      ...   \n",
       "10408643   Horrid Henry Delivers the Milk      0.0     2012.0      NaN   \n",
       "10408644  Teatroteka: Czlowiek bez twarzy      0.0     2015.0      NaN   \n",
       "10408677                   Episode #10.15      0.0     2019.0      NaN   \n",
       "10408712       Horrid Henry's Comic Caper      0.0     2014.0      NaN   \n",
       "10408720        Horrid Henry Knows It All      0.0     2014.0      NaN   \n",
       "\n",
       "          runtimeMinutes                       genres  \n",
       "28755               10.0         Comedy,Romance,Short  \n",
       "29765              101.0                Drama,History  \n",
       "34971               15.0                          NaN  \n",
       "37600               15.0                    Talk-Show  \n",
       "38056              150.0                Drama,Fantasy  \n",
       "...                  ...                          ...  \n",
       "10408643            10.0   Adventure,Animation,Comedy  \n",
       "10408644            66.0                        Drama  \n",
       "10408677            43.0  Family,Game-Show,Reality-TV  \n",
       "10408712            11.0   Adventure,Animation,Comedy  \n",
       "10408720            10.0   Adventure,Animation,Comedy  \n",
       "\n",
       "[1714219 rows x 9 columns]"
      ]
     },
     "execution_count": 6,
     "metadata": {},
     "output_type": "execute_result"
    }
   ],
   "source": [
    "titles_df = titles_df.loc[titles_df['primaryTitle'] == titles_df['originalTitle']]\n",
    "titles_df"
   ]
  },
  {
   "cell_type": "code",
   "execution_count": 7,
   "id": "31d8360b",
   "metadata": {
    "deletable": true,
    "editable": true
   },
   "outputs": [],
   "source": [
    "def principal_component_analysis(dataframe, key_list):\n",
    "    new_dataframe = dataframe[key_list]\n",
    "\n",
    "    # Compute the mean and std of the data\n",
    "    mean = np.mean(new_dataframe, axis=0)\n",
    "    std = np.std(new_dataframe, axis=0)\n",
    "    # Standardize the data by subtracting the mean and dividing by std\n",
    "    standardized_data = (new_dataframe - mean) / std\n",
    "    \n",
    "    # Compute the covariance matrix\n",
    "    cov_matrix = np.cov(standardized_data, rowvar=False)\n",
    "\n",
    "    # Get the eigenvalues and eigenvectors\n",
    "    eigen_values, eigen_vectors = np.linalg.eig(cov_matrix)\n",
    "\n",
    "    # Sort the eigenvectors by decreasing eigenvalues\n",
    "    sorted_index = np.argsort(eigen_values)[::-1]\n",
    "    sorted_eigenvalue = eigen_values[sorted_index]\n",
    "    sorted_eigenvectors = eigen_vectors[:, sorted_index]\n",
    "\n",
    "    # Transform the data\n",
    "    return np.dot(standardized_data, sorted_eigenvectors)"
   ]
  },
  {
   "cell_type": "code",
   "execution_count": 8,
   "id": "61eecc41",
   "metadata": {
    "collapsed": false,
    "deletable": true,
    "editable": true,
    "jupyter": {
     "outputs_hidden": false
    }
   },
   "outputs": [
    {
     "data": {
      "text/plain": [
       "array([[-2.24930501, -1.92286087, -2.18237185],\n",
       "       [-2.85453809,  0.03628494, -2.51660433],\n",
       "       [-2.07057413, -1.70349914, -1.98260552],\n",
       "       ...,\n",
       "       [ 0.44219416,  0.32168503,  0.69178961],\n",
       "       [ 0.48927506, -0.45459475,  0.63876866],\n",
       "       [ 0.49631782, -0.47591732,  0.64284475]])"
      ]
     },
     "execution_count": 8,
     "metadata": {},
     "output_type": "execute_result"
    }
   ],
   "source": [
    "foo = principal_component_analysis(titles_df,[\"isAdult\",'runtimeMinutes', \"startYear\"])\n",
    "foo"
   ]
  },
  {
   "cell_type": "code",
   "execution_count": 14,
   "id": "d7b394a2",
   "metadata": {
    "deletable": true,
    "editable": true
   },
   "outputs": [],
   "source": [
    "class GaussianNaiveBayes: \n",
    "    def __init__(self, x, y, log=False) :\n",
    "        self.data = np.concatenate((np.array(x), np.array(y).reshape(-1, 1)), axis=1)\n",
    "        self.n_features = x.shape[1]\n",
    "        self.classes = set(y)\n",
    "        self.log = log\n",
    "    \n",
    "    def fit(self) :\n",
    "        dimensions = (len(self.classes),2)\n",
    "        self.mean, self.std, self.len = np.zeros(dimensions),  np.zeros(dimensions), np.zeros(len(self.classes))\n",
    "\n",
    "        for i in self.classes :\n",
    "            j = int(i)\n",
    "            d = self.data[self.data[:,-1]==i]\n",
    "            self.mean[j] = np.mean(d, axis=0)[:-1]\n",
    "            self.std[j] = np.std(d, axis=0)[:-1]\n",
    "            self.len[j] = len(d)\n",
    "    \n",
    "    def get_probability(self, inp, mean, std) :\n",
    "        res = (1 / (np.sqrt(2 * np.pi) * std)) * np.exp(-(((inp-mean)**2)/(2*(std**2))))\n",
    "        if self.log : \n",
    "            return np.log(1+res)\n",
    "        return res\n",
    "    \n",
    "    def predict(self, test_set) :\n",
    "        results = np.zeros(len(test_set)) #pd.DataFrame(columns=['isAdult'])\n",
    "        test_arr = test_set.to_numpy()\n",
    "        t = 0\n",
    "        for index in range(len(test_arr)):\n",
    "            inp = test_arr[index]\n",
    "            pred_class, pred_prob = -1 , 0\n",
    "            for i in self.classes: \n",
    "                j = int(i)\n",
    "                probs = self.get_probability(inp, self.mean[j], self.std[j])\n",
    "                class_prob = np.prod(probs)\n",
    "                if class_prob > pred_prob : \n",
    "                    pred_class, pred_prob = i , class_prob\n",
    "            results[index] = pred_class\n",
    "            t += 1\n",
    "        return results\n"
   ]
  },
  {
   "cell_type": "code",
   "execution_count": 15,
   "id": "d3d40c6d",
   "metadata": {
    "collapsed": false,
    "deletable": true,
    "editable": true,
    "jupyter": {
     "outputs_hidden": false
    },
    "scrolled": true
   },
   "outputs": [],
   "source": [
    "X_train, X_test, y_train, y_test = train_test_split(titles_df[[\"startYear\", \"runtimeMinutes\"]], titles_df[\"isAdult\"], test_size=0.5, random_state=0)\n",
    "gnb1 = GaussianNaiveBayes(X_train,y_train)\n",
    "gnb1.fit()\n",
    "y_pred1 = gnb1.predict(X_test)"
   ]
  },
  {
   "cell_type": "code",
   "execution_count": 16,
   "id": "a957d7cb",
   "metadata": {
    "deletable": true,
    "editable": true
   },
   "outputs": [],
   "source": [
    "X_train1, X_test1, y_train1, y_test1 = train_test_split(titles_df[[\"startYear\", \"runtimeMinutes\"]], titles_df[\"isAdult\"], test_size=0.5, random_state=0)\n",
    "\n",
    "gnb2 = GaussianNB()\n",
    "y_pred2 = gnb2.fit(X_train1, y_train1).predict(X_test1)"
   ]
  },
  {
   "cell_type": "code",
   "execution_count": 20,
   "id": "287f574c",
   "metadata": {
    "deletable": true,
    "editable": true
   },
   "outputs": [
    {
     "name": "stdout",
     "output_type": "stream",
     "text": [
      "Accuracy rate of our model : 46.82 %\n",
      "Accuracy rate of the prebuilt model : 97.46 %\n"
     ]
    }
   ],
   "source": [
    "correct1 = 0\n",
    "y_test_arr = y_test.to_numpy()\n",
    "\n",
    "for i in range(len(y_pred1)):\n",
    "    if y_pred1[i] == y_test_arr[i]:\n",
    "        correct1 += 1\n",
    "\n",
    "correct2 = 0\n",
    "for i in range(len(y_pred2)):\n",
    "    if y_pred2[i] == y_test_arr[i]:\n",
    "        correct2 += 1\n",
    "\n",
    "print(\"Accuracy rate of our model :\", round( (correct1 * 100 / len(y_pred1)) , 2), \"%\")\n",
    "print(\"Accuracy rate of the prebuilt model :\", round( (correct2 * 100 / len(y_pred2)) , 2), \"%\")"
   ]
  },
  {
   "cell_type": "code",
   "execution_count": null,
   "id": "37310c27-a134-4ad3-bb2d-c926f58a0739",
   "metadata": {},
   "outputs": [],
   "source": []
  }
 ],
 "metadata": {
  "kernelspec": {
   "display_name": "Python 3 (ipykernel)",
   "language": "python",
   "name": "python3"
  },
  "language_info": {
   "codemirror_mode": {
    "name": "ipython",
    "version": 3
   },
   "file_extension": ".py",
   "mimetype": "text/x-python",
   "name": "python",
   "nbconvert_exporter": "python",
   "pygments_lexer": "ipython3",
   "version": "3.12.0"
  }
 },
 "nbformat": 4,
 "nbformat_minor": 5
}
